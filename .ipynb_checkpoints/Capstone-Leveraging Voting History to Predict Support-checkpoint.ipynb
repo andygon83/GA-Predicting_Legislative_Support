{
 "cells": [
  {
   "cell_type": "markdown",
   "metadata": {},
   "source": [
    "# Leveraging Voting History to Predict Legislator Support"
   ]
  },
  {
   "cell_type": "markdown",
   "metadata": {},
   "source": [
    "### Executive Summary"
   ]
  },
  {
   "cell_type": "markdown",
   "metadata": {},
   "source": [
    "The stated goal of this project is to correctly predict voting behavior of a member and thought-leader in the Foreign Affairs Committee in the U.S. House of Representative. To do so, I collected every piece of legislation that went before the committee in the past 4 sessions of Congress, and I chose my thought-leader as someone with a long standing record of being on the right side of issues that relate to Latin America. Though this project does not focus solely on legislation that has to do with Latin America, the experiment was designed to predict if the text of a legislation would be supported by someone friendly to the region.\n",
    "\n",
    "After many permutations, I arrived at the conclusion that applying a TF-IDF count vectorizer on the text, upsampling to account for highly imbalanced classes, and using logistic regression, yields a model that does the best results in separating the positive response at a minimum cost of False Positives and computational effort.\n",
    "\n",
    "Further improvements on this project depend on leveraging other Natural Language Processing tools more apt for the task, and collecting a bigger sample of data by extending the the date range further back."
   ]
  },
  {
   "cell_type": "markdown",
   "metadata": {},
   "source": [
    "### Aim and Methods Outline"
   ]
  },
  {
   "cell_type": "markdown",
   "metadata": {},
   "source": [
    "The project is designed to predict how a long standing member of Congress will vote in future legislation once they retire. As a proof of concept for this aim, I have chosen to analyse the life work of retiring Congresswoman Ileana Ros-Lehtinen from Miami in the context of the House Foreign Affairs Committee (Committee), specifically regarding bills on Latin America.\n",
    "\n",
    "My original idea was to predict \"favorable\" or \"unfavorable\" legislation toward Latin America, but I realized the subjectivity of every possible metric along partisan lines. However, that didn't disqualify the idea of using the voting record of thought-leaders on the issue as a classifier against which I could design a predictive model.\n",
    "\n",
    "Why predict support of a retiring U.S. House member? Congresswoman's Lehtinen's unique life experience and pespective have led her to be on the \"good\" side of every issue related to Latin America. If I can't escape subjectivity when rating legislation, I can model the behavior of someone who for 30 years has been a paragon model to follow. Having been a victim of persecution and dictatorship herself in her native Cuba, she seems to always find the voice of the different affected people of Latin America. Providing a way to machine learn from her legislative experience has value for advocates of the region, and the concept could have application on similar cases.\n",
    "\n",
    "By using the bills she sponsored in the Committee during the past 4 sessions of Congress, I will create a prediction model that would output a logistic answer to whether Congresswoman Ros-Lehtinen would've voted on a bill given the text.\n",
    "\n",
    "To leverage the text as features, I will perform count vectorizing on the bill text to pick up features. This process will require a lot of critical decision, such as the context lost when lemmitizing count vectorizing results and the choice of stop words in addition to the standards in NLTK's 'english' set. Language that is standard across bills and that make part of the more procedural aspects of bill texts will be incorporated into our stop words threshold when appropriate.\n",
    "\n",
    "The resulting data frame of the count vectorizing will be modeled using random forest, with the intention of using boosting methods if the signal is too weak."
   ]
  },
  {
   "cell_type": "markdown",
   "metadata": {},
   "source": [
    "#### Success Criteria"
   ]
  },
  {
   "cell_type": "markdown",
   "metadata": {},
   "source": [
    "The use of NLP on language not crafted by the person being modelled presents challenges to the method, but from past project expperience, I believe we can achieve over 70% accuracy in a binary classification, with an AUC score similarly to 70% (0.7 in AUC scale). \n",
    "\n",
    "However, the design of this experiment was to preserve the Congresswoman's long standing record on Latin American issues. I will update this project as new legislation on the topic becomes available prior to her retirement.  I expect to get a higher percentage of accuracy in this second experiment."
   ]
  },
  {
   "cell_type": "markdown",
   "metadata": {},
   "source": [
    "#### Data Dictionary and Cleaning"
   ]
  },
  {
   "cell_type": "markdown",
   "metadata": {},
   "source": [
    "The data was mainly collected from their now deprecated (at least the data arm) [Sunlight Foundation](https://sunlightfoundation.com), the [U.S. Government Publishing Office (GPO)](https://www.gpo.gov) and [ProPublica](https://www.propublica.org/datastore/).\n",
    "\n",
    "From **Sunlight Foundation** I scraped a list of all the bills that were referred to the U.S. House Committee on Foreign Affairs (Committee), from 2009 to the present. In the scrape I kept several variables that helped identify the bill, including potential targets for count vectorizing such as the bill title and nicknames.\n",
    "\n",
    "Using the bill identification information, I built a second scraper that would iterate over the first one for bill information to download the bill text from the **GPO**.\n",
    "\n",
    "Finally, I used the information from Committee specific bills from Sunlight Foundation to parse through **ProPublica's** bill records. From there I scraped which entries in my set Rep. Ileana Ros-Lehtinen has sponsored or cosponsored. I chose sponsorship over votes because those are considerably more common than votes since a small amount of bills introduced ever get vote consideration. It also shows more personal commitment to the language and content of the legislation being proposed.\n",
    "\n",
    "After acquiring the necessary data, the next steps were to prepare them for the count vectorizing. The bills text had a lot of formating to correct whitespaces and select the part of the bill most useful and unique. Prior to running the count vectorizer, the data was isolated to contain just the text and Ros-Lehtinen's voting record.\n",
    "\n",
    "At this point I performed a train, test split and proceeded with the count vectorization of the data. "
   ]
  },
  {
   "cell_type": "markdown",
   "metadata": {},
   "source": [
    "### Feature and Model Selection"
   ]
  },
  {
   "cell_type": "markdown",
   "metadata": {},
   "source": [
    "Given the scope of the project and the data I have collected I have chosen the following features on which to build the model. \n",
    "\n",
    "The main feature(s) is the result of Lemmatized Count Verctorization applied on the corpus of the billtext. The body of text used had been stripped of the preamble of the bill (which includes the sponsors and co-sponsors, as well as the process under which a bill is referred to committee), and of non-word elements such as symbols and section numbering. In addition to the countvectorization, I also used dummy variables to represent what sort of legislation is the entry (HR, HRES, S, etc.).\n",
    "\n",
    "The response variable is, of course, a metric of Congresswoman Ros-Lehtinen. However, considering how rare is the intersection between bills submitted to the Committee and bills being voted on the floor, I had to use a different parameter. For this reason I chose sponsorship or co-sponsorship of a bill. The number of response classes thus rises to roughly 15% of the data. Using this criteria also prevents me from missing datapoints that occur in the form of voice votes. A voice vote is common in generally agreed legislation and it is incumbent on the opposition party to request the Yays and Nays in order for those vote positions to go into the the federal register.\n",
    "\n",
    "The most aggressive decision I made to address class imbalance was to upsample my positive responses to match my negative responses. I achieved this by resampling with replacement and setting the parameters so the classes were evenly divided at 2150 entries each. After building the models using this data set, I will revert to my original set and run it through the model. The report based on this will be part of my scoring criterion specified above.\n",
    "\n",
    "Equipped with my data and response variable, I build several classification models to see which algorithm highlighted my response variable best."
   ]
  },
  {
   "cell_type": "markdown",
   "metadata": {},
   "source": [
    "### Results"
   ]
  },
  {
   "cell_type": "markdown",
   "metadata": {},
   "source": [
    "Even with the number of permutations of model and vectorizer combination, the models struggled getting an AUC score above 60%. Using pairings of Count Vectorizer, and TFIDF Vectorizer, and the models KNeighbors, Logistic Regression, Bernoulli Naive Bayes, Multinomial Naive Bayes, XGBoost, and Random Forest, I looked for the best scoring models possible. Accuracy was always high, but the models kept skewing the results to a very low count of positive predictions, per the confusion matrix and AUC score. \n",
    "\n",
    "After the upsampling described above, the result of my models improved. When I passed the original data in the upsampled-made models, I found that **the best balance of accuracy and computational efficiency was running a logistic regression on TF-IDF Vectorized text.** The results of XGBoost model also showed promise similar to the logistic regression, but not sufficient enough to justify its slow performance.\n",
    "\n",
    "The final cross-validated accuracy and AUC metric for the chosen logistic regression model were 82% accuracy and .69 for AUC. I am conflicted since this is slightly below my stated goal of reaching .70 AUC score, but with an accuracy well above my original goal, I feel that the proof of concept is achieved and further development with more appropriate Natural Language Processing tools."
   ]
  },
  {
   "cell_type": "markdown",
   "metadata": {},
   "source": [
    "### Evaluation and Stakeholder Recommendations"
   ]
  },
  {
   "cell_type": "markdown",
   "metadata": {},
   "source": [
    "The task of predicting voting behavior is tricky in parlamentary systems where voting behavior is not always recorded. Moreover, legislation is usually structured in time-honored ways by staffers, thus reducing the impact that text vectorizers will have in predicting the voting member's feelings or style. However, I do believe there is enough of a signal in the analysis of the text that characterizes what sort of legislation they will support.\n",
    "\n",
    "In specific reference to my results and evaluating my experiment, I am a concerned about the low value of recall for the positive responses in my target variable. The model's score of ~.45 for the recall of bill sponsorship does cast a slight shadow over my results and assertions, but I am confident that it is an error other NLP tools will help correct.\n",
    "\n",
    "A subsequent analysis that would deepen the understanding of voting behavior based on legislation text is to run unsupervised learning algorithms, such as LDA. Deploying this project's model and an LDA won't be possible as an integrated system, but it will deepen the subject matter expertise and provide insights for future model development.\n",
    "\n",
    "Stakeholders should feel encouraged with these results and look into setting experiments for situations that mirror the simplification of complexities that arise when you try to analyze a group of people by the materials they produce. The value of preserving important points of view and of predicting support for legislation can have significant returns for basically any industry and stakeholder group.\n",
    "\n"
   ]
  },
  {
   "cell_type": "code",
   "execution_count": 5,
   "metadata": {
    "collapsed": true
   },
   "outputs": [],
   "source": [
    "import requests\n",
    "import numpy as np\n",
    "import pandas as pd\n",
    "import re\n",
    "import nltk\n",
    "from nltk.corpus import stopwords\n",
    "import pickle\n",
    "import seaborn as sns, matplotlib.pyplot as plt\n",
    "\n",
    "from sklearn.feature_extraction.text import CountVectorizer, TfidfTransformer, TfidfVectorizer, HashingVectorizer \n",
    "from sklearn.learning_curve import learning_curve\n",
    "from sklearn.cross_validation import cross_val_score, ShuffleSplit, train_test_split, StratifiedKFold\n",
    "from sklearn.metrics import classification_report, confusion_matrix\n",
    "from sklearn.naive_bayes import MultinomialNB, BernoulliNB, GaussianNB\n",
    "from sklearn.neighbors import KNeighborsClassifier\n",
    "from sklearn.pipeline import Pipeline\n",
    "from nltk.stem import WordNetLemmatizer\n",
    "from sklearn.ensemble import RandomForestClassifier\n",
    "from sklearn.tree import DecisionTreeClassifier\n",
    "from sklearn.grid_search import GridSearchCV\n",
    "from sklearn.linear_model import LogisticRegression\n",
    "from xgboost import XGBClassifier\n",
    "from sklearn.metrics import accuracy_score\n",
    "from nltk.tokenize import RegexpTokenizer\n",
    "\n",
    "%matplotlib inline\n",
    "\n",
    "sns.set_style(\"darkgrid\")\n",
    "\n",
    "def eda(dataframe):\n",
    "    print \"missing values \\n\", dataframe.isnull().sum()\n",
    "    print \"dataframe index \\n\", dataframe.index\n",
    "    print \"dataframe types \\n\", dataframe.dtypes\n",
    "    print \"dataframe shape \\n\", dataframe.shape\n",
    "    print \"dataframe describe \\n\", dataframe.describe()\n",
    "    print \"dataframe duplicates \\n\", dataframe.duplicated().sum() \n",
    "    for item in dataframe:\n",
    "        print item\n",
    "        print dataframe[item].nunique()\n",
    "        \n",
    "def eda_helper(df):\n",
    "    dict_list = []\n",
    "    for col in df.columns:\n",
    "        data = df[col]\n",
    "        dict_ = {}\n",
    "        # The null count for a column. Columns with no nulls are generally more interesting\n",
    "        dict_.update({\"null_count\" : data.isnull().sum()})\n",
    "        # Counting the unique values in a column\n",
    "        # This is useful for seeing how interesting the column might be as a feature\n",
    "        dict_.update({\"unique_count\" : len(data.unique())})\n",
    "        # Finding the types of data in the column\n",
    "        # This is useful for finding out potential problems with a column having strings and ints\n",
    "        dict_.update({\"data_type\" : set([type(d).__name__ for d in data])})\n",
    "        #dict_.update({\"score\" : match[1]})\n",
    "        dict_list.append(dict_)\n",
    "    eda_df = pd.DataFrame(dict_list)\n",
    "    eda_df.index = df.columns\n",
    "    #eda_df = eda_df.sort_values(['null_count','unique_count'], ascending=[True, False])\n",
    "    return eda_df"
   ]
  },
  {
   "cell_type": "markdown",
   "metadata": {},
   "source": [
    "### Scraping and cleaning the dataset"
   ]
  },
  {
   "cell_type": "code",
   "execution_count": 7,
   "metadata": {
    "collapsed": true
   },
   "outputs": [],
   "source": [
    "# Scraping the bill set for bills considered in the Committee from 2009 to present.\n",
    "# The scraper is set up to ONLY get bills that passed through the Committee.\n",
    "url_template = 'https://congress.api.sunlightfoundation.com/bills?committee_ids=HSFA&per_page=50&page='\n",
    "max_pages = 60\n",
    "dfp= pd.DataFrame()\n",
    "for start in range(1, max_pages):\n",
    "    r = requests.get(url_template+str(start))   \n",
    "    results = r.json()['results']\n",
    "    temp = pd.DataFrame(results)\n",
    "    dfp = pd.concat([dfp, temp])"
   ]
  },
  {
   "cell_type": "code",
   "execution_count": 8,
   "metadata": {},
   "outputs": [
    {
     "data": {
      "text/plain": [
       "Index([                     u'index',                    u'bill_id',\n",
       "                        u'bill_type',                    u'chamber',\n",
       "                    u'committee_ids',                   u'congress',\n",
       "                 u'cosponsors_count',                 u'enacted_as',\n",
       "                          u'history',              u'introduced_on',\n",
       "                   u'last_action_at',               u'last_version',\n",
       "                  u'last_version_on',               u'last_vote_at',\n",
       "                        u'nicknames',                     u'number',\n",
       "                   u'official_title',              u'popular_title',\n",
       "                 u'related_bill_ids',                u'short_title',\n",
       "                          u'sponsor',                 u'sponsor_id',\n",
       "                             u'urls', u'withdrawn_cosponsors_count'],\n",
       "      dtype='object')"
      ]
     },
     "execution_count": 8,
     "metadata": {},
     "output_type": "execute_result"
    }
   ],
   "source": [
    "# Checking the scrape results\n",
    "dfp= dfp.reset_index()\n",
    "dfp.columns"
   ]
  },
  {
   "cell_type": "code",
   "execution_count": 6,
   "metadata": {
    "collapsed": true
   },
   "outputs": [],
   "source": [
    "# Further narrow down my bill data frame\n",
    "billtargs = dfp[['bill_id', 'congress', 'bill_type', 'number', 'chamber', 'committee_ids', 'introduced_on', 'last_action_at', 'last_vote_at', 'official_title', 'urls']]"
   ]
  },
  {
   "cell_type": "code",
   "execution_count": 17,
   "metadata": {},
   "outputs": [
    {
     "data": {
      "text/plain": [
       "array([u'hconres', u'hjres', u'hr', u'hres', u's', u'sconres', u'sjres'], dtype=object)"
      ]
     },
     "execution_count": 17,
     "metadata": {},
     "output_type": "execute_result"
    }
   ],
   "source": [
    "vals = billtargs.bill_type.get_values()\n",
    "np.unique(vals)"
   ]
  },
  {
   "cell_type": "code",
   "execution_count": 7,
   "metadata": {},
   "outputs": [
    {
     "name": "stderr",
     "output_type": "stream",
     "text": [
      "/anaconda/lib/python2.7/site-packages/ipykernel_launcher.py:1: SettingWithCopyWarning: \n",
      "A value is trying to be set on a copy of a slice from a DataFrame.\n",
      "Try using .loc[row_indexer,col_indexer] = value instead\n",
      "\n",
      "See the caveats in the documentation: http://pandas.pydata.org/pandas-docs/stable/indexing.html#indexing-view-versus-copy\n",
      "  \"\"\"Entry point for launching an IPython kernel.\n"
     ]
    }
   ],
   "source": [
    "# Create new column to fill in with the following scrape...\n",
    "billtargs['billtext'] = np.nan"
   ]
  },
  {
   "cell_type": "code",
   "execution_count": 21,
   "metadata": {},
   "outputs": [
    {
     "name": "stderr",
     "output_type": "stream",
     "text": [
      "/anaconda/lib/python2.7/site-packages/ipykernel_launcher.py:6: SettingWithCopyWarning: \n",
      "A value is trying to be set on a copy of a slice from a DataFrame\n",
      "\n",
      "See the caveats in the documentation: http://pandas.pydata.org/pandas-docs/stable/indexing.html#indexing-view-versus-copy\n",
      "  \n"
     ]
    }
   ],
   "source": [
    "# Scraping GPO to get the cleanest version of bill texts I found online\n",
    "for i in range(0, len(billtargs)):  \n",
    "    \n",
    "    if billtargs.bill_type.iloc[i] == \"hconres\" or \"hjres\" or \"hr\" or \"hres\":\n",
    "        url_template = 'https://www.gpo.gov/fdsys/pkg/BILLS-{}{}{}ih/html/BILLS-{}{}{}ih.htm'.format(billtargs.congress.iloc[i], billtargs.bill_type.iloc[i], billtargs.number.iloc[i], billtargs.congress.iloc[i], billtargs.bill_type.iloc[i], billtargs.number.iloc[i])\n",
    "        r = requests.get(url_template)\n",
    "        billtargs.billtext.iloc[i] = r.text\n",
    "        \n",
    "    else:\n",
    "        url_template = 'https://www.gpo.gov/fdsys/pkg/BILLS-{}{}{}is/html/BILLS-{}{}{}is.htm'.format(billtargs.congress.iloc[i], billtargs.bill_type.iloc[i], billtargs.number.iloc[i], billtargs.congress.iloc[i], billtargs.bill_type.iloc[i], billtargs.number.iloc[i])\n",
    "        r = requests.get(url_template)\n",
    "        billtargs.billtext.iloc[i] = r.text\n"
   ]
  },
  {
   "cell_type": "code",
   "execution_count": 24,
   "metadata": {},
   "outputs": [
    {
     "name": "stderr",
     "output_type": "stream",
     "text": [
      "/anaconda/lib/python2.7/site-packages/ipykernel_launcher.py:5: SettingWithCopyWarning: \n",
      "A value is trying to be set on a copy of a slice from a DataFrame\n",
      "\n",
      "See the caveats in the documentation: http://pandas.pydata.org/pandas-docs/stable/indexing.html#indexing-view-versus-copy\n",
      "  \"\"\"\n"
     ]
    }
   ],
   "source": [
    "for i in range(0, len(billtargs)):\n",
    "    if billtargs.bill_type.iloc[i] == \"s\":\n",
    "        url_template = 'https://www.gpo.gov/fdsys/pkg/BILLS-{}{}{}is/html/BILLS-{}{}{}is.htm'.format(billtargs.congress.iloc[i], billtargs.bill_type.iloc[i], billtargs.number.iloc[i], billtargs.congress.iloc[i], billtargs.bill_type.iloc[i], billtargs.number.iloc[i])\n",
    "        r = requests.get(url_template)\n",
    "        billtargs.billtext.iloc[i] = r.text\n",
    "    else:\n",
    "        pass"
   ]
  },
  {
   "cell_type": "code",
   "execution_count": 60,
   "metadata": {
    "collapsed": true,
    "scrolled": true
   },
   "outputs": [],
   "source": [
    "eda(billtargs)"
   ]
  },
  {
   "cell_type": "code",
   "execution_count": 214,
   "metadata": {},
   "outputs": [
    {
     "data": {
      "text/plain": [
       "(35, 13)"
      ]
     },
     "execution_count": 214,
     "metadata": {},
     "output_type": "execute_result"
    }
   ],
   "source": [
    "# Checking which bills my scrape was unable to find text for. Noticed it was small enough to drop.\n",
    "doctype = billstargs[billstargs.billtext.str.contains('DOCTYPE')]\n",
    "doctype.shape"
   ]
  },
  {
   "cell_type": "code",
   "execution_count": 199,
   "metadata": {
    "scrolled": true
   },
   "outputs": [
    {
     "data": {
      "text/html": [
       "<div>\n",
       "<style>\n",
       "    .dataframe thead tr:only-child th {\n",
       "        text-align: right;\n",
       "    }\n",
       "\n",
       "    .dataframe thead th {\n",
       "        text-align: left;\n",
       "    }\n",
       "\n",
       "    .dataframe tbody tr th {\n",
       "        vertical-align: top;\n",
       "    }\n",
       "</style>\n",
       "<table border=\"1\" class=\"dataframe\">\n",
       "  <thead>\n",
       "    <tr style=\"text-align: right;\">\n",
       "      <th></th>\n",
       "      <th>Unnamed: 0</th>\n",
       "      <th>bill_id</th>\n",
       "      <th>congress</th>\n",
       "      <th>bill_type</th>\n",
       "      <th>number</th>\n",
       "      <th>chamber</th>\n",
       "      <th>committee_ids</th>\n",
       "      <th>introduced_on</th>\n",
       "      <th>last_action_at</th>\n",
       "      <th>last_vote_at</th>\n",
       "      <th>official_title</th>\n",
       "      <th>urls</th>\n",
       "      <th>billtext</th>\n",
       "    </tr>\n",
       "  </thead>\n",
       "  <tbody>\n",
       "    <tr>\n",
       "      <th>408</th>\n",
       "      <td>408</td>\n",
       "      <td>hres827-114</td>\n",
       "      <td>114</td>\n",
       "      <td>hres</td>\n",
       "      <td>827</td>\n",
       "      <td>house</td>\n",
       "      <td>[HSHM, HSFA, HSGO]</td>\n",
       "      <td>2016-07-13</td>\n",
       "      <td>2016-07-13T22:21:32Z</td>\n",
       "      <td>2016-07-13T22:21:11Z</td>\n",
       "      <td>Condemning the terrorist attack on the Pulse O...</td>\n",
       "      <td>{u'govtrack': u'https://www.govtrack.us/congre...</td>\n",
       "      <td>&lt;!DOCTYPE html PUBLIC \"-//W3C//DTD XHTML 1.0 S...</td>\n",
       "    </tr>\n",
       "    <tr>\n",
       "      <th>416</th>\n",
       "      <td>416</td>\n",
       "      <td>sconres46-114</td>\n",
       "      <td>114</td>\n",
       "      <td>sconres</td>\n",
       "      <td>46</td>\n",
       "      <td>senate</td>\n",
       "      <td>[HSFA, SSFR]</td>\n",
       "      <td>2016-07-12</td>\n",
       "      <td>2016-09-12T18:36:14Z</td>\n",
       "      <td>2016-09-12T18:36:13Z</td>\n",
       "      <td>A concurrent resolution expressing support for...</td>\n",
       "      <td>{u'govtrack': u'https://www.govtrack.us/congre...</td>\n",
       "      <td>&lt;!DOCTYPE html PUBLIC \"-//W3C//DTD XHTML 1.0 S...</td>\n",
       "    </tr>\n",
       "    <tr>\n",
       "      <th>456</th>\n",
       "      <td>456</td>\n",
       "      <td>sconres41-114</td>\n",
       "      <td>114</td>\n",
       "      <td>sconres</td>\n",
       "      <td>41</td>\n",
       "      <td>senate</td>\n",
       "      <td>[HSFA, SSFR]</td>\n",
       "      <td>2016-06-16</td>\n",
       "      <td>2016-07-18</td>\n",
       "      <td>2016-07-14</td>\n",
       "      <td>A concurrent resolution expressing the sense o...</td>\n",
       "      <td>{u'govtrack': u'https://www.govtrack.us/congre...</td>\n",
       "      <td>&lt;!DOCTYPE html PUBLIC \"-//W3C//DTD XHTML 1.0 S...</td>\n",
       "    </tr>\n",
       "    <tr>\n",
       "      <th>718</th>\n",
       "      <td>718</td>\n",
       "      <td>s1635-114</td>\n",
       "      <td>114</td>\n",
       "      <td>s</td>\n",
       "      <td>1635</td>\n",
       "      <td>senate</td>\n",
       "      <td>[HSFA, SSFR]</td>\n",
       "      <td>2015-06-18</td>\n",
       "      <td>2016-12-16</td>\n",
       "      <td>2016-12-10</td>\n",
       "      <td>An original bill to authorize the Department o...</td>\n",
       "      <td>{u'govtrack': u'https://www.govtrack.us/congre...</td>\n",
       "      <td>&lt;!DOCTYPE html PUBLIC \"-//W3C//DTD XHTML 1.0 S...</td>\n",
       "    </tr>\n",
       "    <tr>\n",
       "      <th>757</th>\n",
       "      <td>757</td>\n",
       "      <td>sconres16-114</td>\n",
       "      <td>114</td>\n",
       "      <td>sconres</td>\n",
       "      <td>16</td>\n",
       "      <td>senate</td>\n",
       "      <td>[HSFA, HSFA13]</td>\n",
       "      <td>2015-05-07</td>\n",
       "      <td>2015-05-20</td>\n",
       "      <td>2015-05-11</td>\n",
       "      <td>A concurrent resolution stating the policy of ...</td>\n",
       "      <td>{u'govtrack': u'https://www.govtrack.us/congre...</td>\n",
       "      <td>&lt;!DOCTYPE html PUBLIC \"-//W3C//DTD XHTML 1.0 S...</td>\n",
       "    </tr>\n",
       "    <tr>\n",
       "      <th>811</th>\n",
       "      <td>811</td>\n",
       "      <td>hres162-114</td>\n",
       "      <td>114</td>\n",
       "      <td>hres</td>\n",
       "      <td>162</td>\n",
       "      <td>house</td>\n",
       "      <td>[HSFA]</td>\n",
       "      <td>2015-03-23</td>\n",
       "      <td>2015-03-23T23:09:29Z</td>\n",
       "      <td>2015-03-23T23:09:28Z</td>\n",
       "      <td>Calling on the President to provide Ukraine wi...</td>\n",
       "      <td>{u'govtrack': u'https://www.govtrack.us/congre...</td>\n",
       "      <td>&lt;!DOCTYPE html PUBLIC \"-//W3C//DTD XHTML 1.0 S...</td>\n",
       "    </tr>\n",
       "    <tr>\n",
       "      <th>928</th>\n",
       "      <td>928</td>\n",
       "      <td>hr5859-113</td>\n",
       "      <td>113</td>\n",
       "      <td>hr</td>\n",
       "      <td>5859</td>\n",
       "      <td>house</td>\n",
       "      <td>[HSFA, HSBA, HSGO, HSJU]</td>\n",
       "      <td>2014-12-11</td>\n",
       "      <td>2014-12-18</td>\n",
       "      <td>2014-12-13</td>\n",
       "      <td>To impose sanctions with respect to the Russia...</td>\n",
       "      <td>{u'opencongress': u'http://www.opencongress.or...</td>\n",
       "      <td>&lt;!DOCTYPE html PUBLIC \"-//W3C//DTD XHTML 1.0 S...</td>\n",
       "    </tr>\n",
       "    <tr>\n",
       "      <th>968</th>\n",
       "      <td>968</td>\n",
       "      <td>hres734-113</td>\n",
       "      <td>113</td>\n",
       "      <td>hres</td>\n",
       "      <td>734</td>\n",
       "      <td>house</td>\n",
       "      <td>[HSFA]</td>\n",
       "      <td>2014-09-18</td>\n",
       "      <td>2014-09-18T23:06:00Z</td>\n",
       "      <td>2014-09-18T23:06:00Z</td>\n",
       "      <td>Expressing the condolences of the House of Rep...</td>\n",
       "      <td>{u'opencongress': u'http://www.opencongress.or...</td>\n",
       "      <td>&lt;!DOCTYPE html PUBLIC \"-//W3C//DTD XHTML 1.0 S...</td>\n",
       "    </tr>\n",
       "    <tr>\n",
       "      <th>1075</th>\n",
       "      <td>1075</td>\n",
       "      <td>sjres36-113</td>\n",
       "      <td>113</td>\n",
       "      <td>sjres</td>\n",
       "      <td>36</td>\n",
       "      <td>senate</td>\n",
       "      <td>[SSFR, HSFA]</td>\n",
       "      <td>2014-05-22</td>\n",
       "      <td>2014-08-01</td>\n",
       "      <td>2014-07-31</td>\n",
       "      <td>A joint resolution relating to the approval an...</td>\n",
       "      <td>{u'opencongress': u'http://www.opencongress.or...</td>\n",
       "      <td>&lt;!DOCTYPE html PUBLIC \"-//W3C//DTD XHTML 1.0 S...</td>\n",
       "    </tr>\n",
       "    <tr>\n",
       "      <th>1204</th>\n",
       "      <td>1204</td>\n",
       "      <td>hr3233-113</td>\n",
       "      <td>113</td>\n",
       "      <td>hr</td>\n",
       "      <td>3233</td>\n",
       "      <td>house</td>\n",
       "      <td>[HSJU, HSFA]</td>\n",
       "      <td>2013-10-02</td>\n",
       "      <td>2013-10-04</td>\n",
       "      <td>2013-10-03</td>\n",
       "      <td>To extend the period during which Iraqis who w...</td>\n",
       "      <td>{u'opencongress': u'http://www.opencongress.or...</td>\n",
       "      <td>&lt;!DOCTYPE html PUBLIC \"-//W3C//DTD XHTML 1.0 S...</td>\n",
       "    </tr>\n",
       "    <tr>\n",
       "      <th>1463</th>\n",
       "      <td>1463</td>\n",
       "      <td>sconres67-111</td>\n",
       "      <td>111</td>\n",
       "      <td>sconres</td>\n",
       "      <td>67</td>\n",
       "      <td>senate</td>\n",
       "      <td>[HSFA]</td>\n",
       "      <td>2010-06-30</td>\n",
       "      <td>2010-12-22T22:41:00Z</td>\n",
       "      <td>2010-12-22T22:41:00Z</td>\n",
       "      <td>A concurrent resolution celebrating 130 years ...</td>\n",
       "      <td>{u'opencongress': u'http://www.opencongress.or...</td>\n",
       "      <td>&lt;!DOCTYPE html PUBLIC \"-//W3C//DTD XHTML 1.0 S...</td>\n",
       "    </tr>\n",
       "    <tr>\n",
       "      <th>1464</th>\n",
       "      <td>1464</td>\n",
       "      <td>sconres54-111</td>\n",
       "      <td>111</td>\n",
       "      <td>sconres</td>\n",
       "      <td>54</td>\n",
       "      <td>senate</td>\n",
       "      <td>[SSFR, HSFA]</td>\n",
       "      <td>2010-03-10</td>\n",
       "      <td>2010-03-19</td>\n",
       "      <td>2010-03-18</td>\n",
       "      <td>A concurrent resolution recognizing the life o...</td>\n",
       "      <td>{u'opencongress': u'http://www.opencongress.or...</td>\n",
       "      <td>&lt;!DOCTYPE html PUBLIC \"-//W3C//DTD XHTML 1.0 S...</td>\n",
       "    </tr>\n",
       "    <tr>\n",
       "      <th>1465</th>\n",
       "      <td>1465</td>\n",
       "      <td>sconres45-111</td>\n",
       "      <td>111</td>\n",
       "      <td>sconres</td>\n",
       "      <td>45</td>\n",
       "      <td>senate</td>\n",
       "      <td>[HSFA]</td>\n",
       "      <td>2009-10-06</td>\n",
       "      <td>2009-10-29T15:58:00Z</td>\n",
       "      <td>2009-10-29T15:58:00Z</td>\n",
       "      <td>A concurrent resolution encouraging the Govern...</td>\n",
       "      <td>{u'opencongress': u'http://www.opencongress.or...</td>\n",
       "      <td>&lt;!DOCTYPE html PUBLIC \"-//W3C//DTD XHTML 1.0 S...</td>\n",
       "    </tr>\n",
       "    <tr>\n",
       "      <th>1466</th>\n",
       "      <td>1466</td>\n",
       "      <td>sconres23-111</td>\n",
       "      <td>111</td>\n",
       "      <td>sconres</td>\n",
       "      <td>23</td>\n",
       "      <td>senate</td>\n",
       "      <td>[SSFR, HSFA]</td>\n",
       "      <td>2009-05-19</td>\n",
       "      <td>2009-06-19</td>\n",
       "      <td>2009-06-18</td>\n",
       "      <td>A concurrent resolution supporting the goals a...</td>\n",
       "      <td>{u'opencongress': u'http://www.opencongress.or...</td>\n",
       "      <td>&lt;!DOCTYPE html PUBLIC \"-//W3C//DTD XHTML 1.0 S...</td>\n",
       "    </tr>\n",
       "    <tr>\n",
       "      <th>1467</th>\n",
       "      <td>1467</td>\n",
       "      <td>sconres19-111</td>\n",
       "      <td>111</td>\n",
       "      <td>sconres</td>\n",
       "      <td>19</td>\n",
       "      <td>senate</td>\n",
       "      <td>[SSFR, HSFA]</td>\n",
       "      <td>2009-04-23</td>\n",
       "      <td>2009-06-02</td>\n",
       "      <td>2009-05-21</td>\n",
       "      <td>A concurrent resolution expressing the sense o...</td>\n",
       "      <td>{u'opencongress': u'http://www.opencongress.or...</td>\n",
       "      <td>&lt;!DOCTYPE html PUBLIC \"-//W3C//DTD XHTML 1.0 S...</td>\n",
       "    </tr>\n",
       "    <tr>\n",
       "      <th>1468</th>\n",
       "      <td>1468</td>\n",
       "      <td>sconres18-111</td>\n",
       "      <td>111</td>\n",
       "      <td>sconres</td>\n",
       "      <td>18</td>\n",
       "      <td>senate</td>\n",
       "      <td>[HSFA]</td>\n",
       "      <td>2009-04-22</td>\n",
       "      <td>2009-04-23</td>\n",
       "      <td>2009-04-22</td>\n",
       "      <td>A concurrent resolution supporting the goals a...</td>\n",
       "      <td>{u'opencongress': u'http://www.opencongress.or...</td>\n",
       "      <td>&lt;!DOCTYPE html PUBLIC \"-//W3C//DTD XHTML 1.0 S...</td>\n",
       "    </tr>\n",
       "    <tr>\n",
       "      <th>1469</th>\n",
       "      <td>1469</td>\n",
       "      <td>sconres11-111</td>\n",
       "      <td>111</td>\n",
       "      <td>sconres</td>\n",
       "      <td>11</td>\n",
       "      <td>senate</td>\n",
       "      <td>[SSFR, HSFA]</td>\n",
       "      <td>2009-03-19</td>\n",
       "      <td>2009-07-21</td>\n",
       "      <td>2009-07-20</td>\n",
       "      <td>A concurrent resolution condemning all forms o...</td>\n",
       "      <td>{u'opencongress': u'http://www.opencongress.or...</td>\n",
       "      <td>&lt;!DOCTYPE html PUBLIC \"-//W3C//DTD XHTML 1.0 S...</td>\n",
       "    </tr>\n",
       "    <tr>\n",
       "      <th>1470</th>\n",
       "      <td>1470</td>\n",
       "      <td>sconres4-111</td>\n",
       "      <td>111</td>\n",
       "      <td>sconres</td>\n",
       "      <td>4</td>\n",
       "      <td>senate</td>\n",
       "      <td>[SSFR, HSFA]</td>\n",
       "      <td>2009-02-03</td>\n",
       "      <td>2009-03-10</td>\n",
       "      <td>2009-03-09</td>\n",
       "      <td>A concurrent resolution calling on the Preside...</td>\n",
       "      <td>{u'opencongress': u'http://www.opencongress.or...</td>\n",
       "      <td>&lt;!DOCTYPE html PUBLIC \"-//W3C//DTD XHTML 1.0 S...</td>\n",
       "    </tr>\n",
       "    <tr>\n",
       "      <th>1497</th>\n",
       "      <td>1497</td>\n",
       "      <td>hconres218-111</td>\n",
       "      <td>111</td>\n",
       "      <td>hconres</td>\n",
       "      <td>218</td>\n",
       "      <td>house</td>\n",
       "      <td>[HSFA, SSFR]</td>\n",
       "      <td>2009-12-08</td>\n",
       "      <td>2009-12-19</td>\n",
       "      <td>2009-12-18</td>\n",
       "      <td>Expressing sympathy for the 57 civilians who w...</td>\n",
       "      <td>{u'opencongress': u'http://www.opencongress.or...</td>\n",
       "      <td>&lt;!DOCTYPE html PUBLIC \"-//W3C//DTD XHTML 1.0 S...</td>\n",
       "    </tr>\n",
       "    <tr>\n",
       "      <th>1552</th>\n",
       "      <td>1552</td>\n",
       "      <td>hres1765-111</td>\n",
       "      <td>111</td>\n",
       "      <td>hres</td>\n",
       "      <td>1765</td>\n",
       "      <td>house</td>\n",
       "      <td>[HSFA]</td>\n",
       "      <td>2010-12-15</td>\n",
       "      <td>2010-12-16T00:41:00Z</td>\n",
       "      <td>2010-12-16T00:41:00Z</td>\n",
       "      <td>Supporting a negotiated solution to the Israel...</td>\n",
       "      <td>{u'opencongress': u'http://www.opencongress.or...</td>\n",
       "      <td>&lt;!DOCTYPE html PUBLIC \"-//W3C//DTD XHTML 1.0 S...</td>\n",
       "    </tr>\n",
       "    <tr>\n",
       "      <th>1555</th>\n",
       "      <td>1555</td>\n",
       "      <td>hres1751-111</td>\n",
       "      <td>111</td>\n",
       "      <td>hres</td>\n",
       "      <td>1751</td>\n",
       "      <td>house</td>\n",
       "      <td>[HSFA]</td>\n",
       "      <td>2010-12-07</td>\n",
       "      <td>2010-12-07T21:15:00Z</td>\n",
       "      <td>2010-12-07T21:15:00Z</td>\n",
       "      <td>Mourning the loss of life and expressing condo...</td>\n",
       "      <td>{u'opencongress': u'http://www.opencongress.or...</td>\n",
       "      <td>&lt;!DOCTYPE html PUBLIC \"-//W3C//DTD XHTML 1.0 S...</td>\n",
       "    </tr>\n",
       "    <tr>\n",
       "      <th>1576</th>\n",
       "      <td>1576</td>\n",
       "      <td>hres1662-111</td>\n",
       "      <td>111</td>\n",
       "      <td>hres</td>\n",
       "      <td>1662</td>\n",
       "      <td>house</td>\n",
       "      <td>[HSFA]</td>\n",
       "      <td>2010-09-28</td>\n",
       "      <td>2010-09-28T20:29:00Z</td>\n",
       "      <td>2010-09-28T20:29:00Z</td>\n",
       "      <td>Expressing support for the 33 trapped Chilean ...</td>\n",
       "      <td>{u'opencongress': u'http://www.opencongress.or...</td>\n",
       "      <td>&lt;!DOCTYPE html PUBLIC \"-//W3C//DTD XHTML 1.0 S...</td>\n",
       "    </tr>\n",
       "    <tr>\n",
       "      <th>1577</th>\n",
       "      <td>1577</td>\n",
       "      <td>hres1661-111</td>\n",
       "      <td>111</td>\n",
       "      <td>hres</td>\n",
       "      <td>1661</td>\n",
       "      <td>house</td>\n",
       "      <td>[HSFA]</td>\n",
       "      <td>2010-09-28</td>\n",
       "      <td>2010-09-28T20:26:00Z</td>\n",
       "      <td>2010-09-28T20:26:00Z</td>\n",
       "      <td>Honoring the lives of the brave and selfless h...</td>\n",
       "      <td>{u'opencongress': u'http://www.opencongress.or...</td>\n",
       "      <td>&lt;!DOCTYPE html PUBLIC \"-//W3C//DTD XHTML 1.0 S...</td>\n",
       "    </tr>\n",
       "    <tr>\n",
       "      <th>1655</th>\n",
       "      <td>1655</td>\n",
       "      <td>hres1246-111</td>\n",
       "      <td>111</td>\n",
       "      <td>hres</td>\n",
       "      <td>1246</td>\n",
       "      <td>house</td>\n",
       "      <td>[HSFA]</td>\n",
       "      <td>2010-04-14</td>\n",
       "      <td>2010-04-14T20:46:00Z</td>\n",
       "      <td>2010-04-14T20:46:00Z</td>\n",
       "      <td>Expressing sympathy to the people of Poland in...</td>\n",
       "      <td>{u'opencongress': u'http://www.opencongress.or...</td>\n",
       "      <td>&lt;!DOCTYPE html PUBLIC \"-//W3C//DTD XHTML 1.0 S...</td>\n",
       "    </tr>\n",
       "    <tr>\n",
       "      <th>1801</th>\n",
       "      <td>1801</td>\n",
       "      <td>hres489-111</td>\n",
       "      <td>111</td>\n",
       "      <td>hres</td>\n",
       "      <td>489</td>\n",
       "      <td>house</td>\n",
       "      <td>[HSFA]</td>\n",
       "      <td>2009-06-02</td>\n",
       "      <td>2009-06-02T23:21:00Z</td>\n",
       "      <td>2009-06-02T23:21:00Z</td>\n",
       "      <td>Recognizing the twentieth anniversary of the s...</td>\n",
       "      <td>{u'opencongress': u'http://www.opencongress.or...</td>\n",
       "      <td>&lt;!DOCTYPE html PUBLIC \"-//W3C//DTD XHTML 1.0 S...</td>\n",
       "    </tr>\n",
       "    <tr>\n",
       "      <th>2125</th>\n",
       "      <td>2125</td>\n",
       "      <td>sconres34-112</td>\n",
       "      <td>112</td>\n",
       "      <td>sconres</td>\n",
       "      <td>34</td>\n",
       "      <td>senate</td>\n",
       "      <td>[HSFA]</td>\n",
       "      <td>2012-01-30</td>\n",
       "      <td>2012-01-31</td>\n",
       "      <td>2012-01-30</td>\n",
       "      <td>A concurrent resolution expressing the sense o...</td>\n",
       "      <td>{u'opencongress': u'http://www.opencongress.or...</td>\n",
       "      <td>&lt;!DOCTYPE html PUBLIC \"-//W3C//DTD XHTML 1.0 S...</td>\n",
       "    </tr>\n",
       "    <tr>\n",
       "      <th>2126</th>\n",
       "      <td>2126</td>\n",
       "      <td>sconres26-112</td>\n",
       "      <td>112</td>\n",
       "      <td>sconres</td>\n",
       "      <td>26</td>\n",
       "      <td>senate</td>\n",
       "      <td>[HSFA]</td>\n",
       "      <td>2011-07-27</td>\n",
       "      <td>2011-07-28</td>\n",
       "      <td>2011-07-27</td>\n",
       "      <td>A concurrent resolution supporting the goals a...</td>\n",
       "      <td>{u'opencongress': u'http://www.opencongress.or...</td>\n",
       "      <td>&lt;!DOCTYPE html PUBLIC \"-//W3C//DTD XHTML 1.0 S...</td>\n",
       "    </tr>\n",
       "    <tr>\n",
       "      <th>2127</th>\n",
       "      <td>2127</td>\n",
       "      <td>sconres25-112</td>\n",
       "      <td>112</td>\n",
       "      <td>sconres</td>\n",
       "      <td>25</td>\n",
       "      <td>senate</td>\n",
       "      <td>[HSFA]</td>\n",
       "      <td>2011-07-18</td>\n",
       "      <td>2011-07-19</td>\n",
       "      <td>2011-07-18</td>\n",
       "      <td>A concurrent resolution welcoming the independ...</td>\n",
       "      <td>{u'opencongress': u'http://www.opencongress.or...</td>\n",
       "      <td>&lt;!DOCTYPE html PUBLIC \"-//W3C//DTD XHTML 1.0 S...</td>\n",
       "    </tr>\n",
       "    <tr>\n",
       "      <th>2128</th>\n",
       "      <td>2128</td>\n",
       "      <td>sconres17-112</td>\n",
       "      <td>112</td>\n",
       "      <td>sconres</td>\n",
       "      <td>17</td>\n",
       "      <td>senate</td>\n",
       "      <td>[SSFR, HSFA]</td>\n",
       "      <td>2011-05-12</td>\n",
       "      <td>2012-09-11T22:58:00Z</td>\n",
       "      <td>2012-09-11T22:58:00Z</td>\n",
       "      <td>A concurrent resolution expressing the sense o...</td>\n",
       "      <td>{u'opencongress': u'http://www.opencongress.or...</td>\n",
       "      <td>&lt;!DOCTYPE html PUBLIC \"-//W3C//DTD XHTML 1.0 S...</td>\n",
       "    </tr>\n",
       "    <tr>\n",
       "      <th>2129</th>\n",
       "      <td>2129</td>\n",
       "      <td>sconres15-112</td>\n",
       "      <td>112</td>\n",
       "      <td>sconres</td>\n",
       "      <td>15</td>\n",
       "      <td>senate</td>\n",
       "      <td>[SSFR, HSFA]</td>\n",
       "      <td>2011-05-05</td>\n",
       "      <td>2011-06-28</td>\n",
       "      <td>2011-06-27</td>\n",
       "      <td>A concurrent resolution supporting the goals a...</td>\n",
       "      <td>{u'opencongress': u'http://www.opencongress.or...</td>\n",
       "      <td>&lt;!DOCTYPE html PUBLIC \"-//W3C//DTD XHTML 1.0 S...</td>\n",
       "    </tr>\n",
       "    <tr>\n",
       "      <th>2130</th>\n",
       "      <td>2130</td>\n",
       "      <td>sjres44-112</td>\n",
       "      <td>112</td>\n",
       "      <td>sjres</td>\n",
       "      <td>44</td>\n",
       "      <td>senate</td>\n",
       "      <td>[SSJU, HSFA]</td>\n",
       "      <td>2012-06-14</td>\n",
       "      <td>2013-01-14</td>\n",
       "      <td>2013-01-02T04:12:00Z</td>\n",
       "      <td>A joint resolution granting the consent of Con...</td>\n",
       "      <td>{u'opencongress': u'http://www.opencongress.or...</td>\n",
       "      <td>&lt;!DOCTYPE html PUBLIC \"-//W3C//DTD XHTML 1.0 S...</td>\n",
       "    </tr>\n",
       "    <tr>\n",
       "      <th>2131</th>\n",
       "      <td>2131</td>\n",
       "      <td>sjres41-112</td>\n",
       "      <td>112</td>\n",
       "      <td>sjres</td>\n",
       "      <td>41</td>\n",
       "      <td>senate</td>\n",
       "      <td>[HSFA]</td>\n",
       "      <td>2012-05-24</td>\n",
       "      <td>2012-09-25</td>\n",
       "      <td>2012-09-22</td>\n",
       "      <td>A joint resolution expressing the sense of Con...</td>\n",
       "      <td>{u'opencongress': u'http://www.opencongress.or...</td>\n",
       "      <td>&lt;!DOCTYPE html PUBLIC \"-//W3C//DTD XHTML 1.0 S...</td>\n",
       "    </tr>\n",
       "    <tr>\n",
       "      <th>2260</th>\n",
       "      <td>2260</td>\n",
       "      <td>hr3765-112</td>\n",
       "      <td>112</td>\n",
       "      <td>hr</td>\n",
       "      <td>3765</td>\n",
       "      <td>house</td>\n",
       "      <td>[HSWM, HSIF, HSIF14, HSPW, HSII, HSFA, HSBA, H...</td>\n",
       "      <td>2011-12-23</td>\n",
       "      <td>2011-12-23</td>\n",
       "      <td>2011-12-23T15:05:00Z</td>\n",
       "      <td>To extend the payroll tax holiday, unemploymen...</td>\n",
       "      <td>{u'opencongress': u'http://www.opencongress.or...</td>\n",
       "      <td>&lt;!DOCTYPE html PUBLIC \"-//W3C//DTD XHTML 1.0 S...</td>\n",
       "    </tr>\n",
       "    <tr>\n",
       "      <th>2428</th>\n",
       "      <td>2428</td>\n",
       "      <td>hres813-112</td>\n",
       "      <td>112</td>\n",
       "      <td>hres</td>\n",
       "      <td>813</td>\n",
       "      <td>house</td>\n",
       "      <td>[HSFA]</td>\n",
       "      <td>2012-11-16</td>\n",
       "      <td>2012-11-16T17:05:00Z</td>\n",
       "      <td>2012-11-16T17:05:00Z</td>\n",
       "      <td>Expressing vigorous support and unwavering com...</td>\n",
       "      <td>{u'opencongress': u'http://www.opencongress.or...</td>\n",
       "      <td>&lt;!DOCTYPE html PUBLIC \"-//W3C//DTD XHTML 1.0 S...</td>\n",
       "    </tr>\n",
       "    <tr>\n",
       "      <th>2599</th>\n",
       "      <td>2599</td>\n",
       "      <td>s2009-112</td>\n",
       "      <td>112</td>\n",
       "      <td>s</td>\n",
       "      <td>2009</td>\n",
       "      <td>senate</td>\n",
       "      <td>[HSFA, HSJU, HSJU03, HSED]</td>\n",
       "      <td>2011-12-16</td>\n",
       "      <td>2012-07-26</td>\n",
       "      <td>2012-07-17T23:05:00Z</td>\n",
       "      <td>A bill to improve the administration of progra...</td>\n",
       "      <td>{u'opencongress': u'http://www.opencongress.or...</td>\n",
       "      <td>&lt;!DOCTYPE html PUBLIC \"-//W3C//DTD XHTML 1.0 S...</td>\n",
       "    </tr>\n",
       "  </tbody>\n",
       "</table>\n",
       "</div>"
      ],
      "text/plain": [
       "      Unnamed: 0         bill_id  congress bill_type  number chamber  \\\n",
       "408          408     hres827-114       114      hres     827   house   \n",
       "416          416   sconres46-114       114   sconres      46  senate   \n",
       "456          456   sconres41-114       114   sconres      41  senate   \n",
       "718          718       s1635-114       114         s    1635  senate   \n",
       "757          757   sconres16-114       114   sconres      16  senate   \n",
       "811          811     hres162-114       114      hres     162   house   \n",
       "928          928      hr5859-113       113        hr    5859   house   \n",
       "968          968     hres734-113       113      hres     734   house   \n",
       "1075        1075     sjres36-113       113     sjres      36  senate   \n",
       "1204        1204      hr3233-113       113        hr    3233   house   \n",
       "1463        1463   sconres67-111       111   sconres      67  senate   \n",
       "1464        1464   sconres54-111       111   sconres      54  senate   \n",
       "1465        1465   sconres45-111       111   sconres      45  senate   \n",
       "1466        1466   sconres23-111       111   sconres      23  senate   \n",
       "1467        1467   sconres19-111       111   sconres      19  senate   \n",
       "1468        1468   sconres18-111       111   sconres      18  senate   \n",
       "1469        1469   sconres11-111       111   sconres      11  senate   \n",
       "1470        1470    sconres4-111       111   sconres       4  senate   \n",
       "1497        1497  hconres218-111       111   hconres     218   house   \n",
       "1552        1552    hres1765-111       111      hres    1765   house   \n",
       "1555        1555    hres1751-111       111      hres    1751   house   \n",
       "1576        1576    hres1662-111       111      hres    1662   house   \n",
       "1577        1577    hres1661-111       111      hres    1661   house   \n",
       "1655        1655    hres1246-111       111      hres    1246   house   \n",
       "1801        1801     hres489-111       111      hres     489   house   \n",
       "2125        2125   sconres34-112       112   sconres      34  senate   \n",
       "2126        2126   sconres26-112       112   sconres      26  senate   \n",
       "2127        2127   sconres25-112       112   sconres      25  senate   \n",
       "2128        2128   sconres17-112       112   sconres      17  senate   \n",
       "2129        2129   sconres15-112       112   sconres      15  senate   \n",
       "2130        2130     sjres44-112       112     sjres      44  senate   \n",
       "2131        2131     sjres41-112       112     sjres      41  senate   \n",
       "2260        2260      hr3765-112       112        hr    3765   house   \n",
       "2428        2428     hres813-112       112      hres     813   house   \n",
       "2599        2599       s2009-112       112         s    2009  senate   \n",
       "\n",
       "                                          committee_ids introduced_on  \\\n",
       "408                                  [HSHM, HSFA, HSGO]    2016-07-13   \n",
       "416                                        [HSFA, SSFR]    2016-07-12   \n",
       "456                                        [HSFA, SSFR]    2016-06-16   \n",
       "718                                        [HSFA, SSFR]    2015-06-18   \n",
       "757                                      [HSFA, HSFA13]    2015-05-07   \n",
       "811                                              [HSFA]    2015-03-23   \n",
       "928                            [HSFA, HSBA, HSGO, HSJU]    2014-12-11   \n",
       "968                                              [HSFA]    2014-09-18   \n",
       "1075                                       [SSFR, HSFA]    2014-05-22   \n",
       "1204                                       [HSJU, HSFA]    2013-10-02   \n",
       "1463                                             [HSFA]    2010-06-30   \n",
       "1464                                       [SSFR, HSFA]    2010-03-10   \n",
       "1465                                             [HSFA]    2009-10-06   \n",
       "1466                                       [SSFR, HSFA]    2009-05-19   \n",
       "1467                                       [SSFR, HSFA]    2009-04-23   \n",
       "1468                                             [HSFA]    2009-04-22   \n",
       "1469                                       [SSFR, HSFA]    2009-03-19   \n",
       "1470                                       [SSFR, HSFA]    2009-02-03   \n",
       "1497                                       [HSFA, SSFR]    2009-12-08   \n",
       "1552                                             [HSFA]    2010-12-15   \n",
       "1555                                             [HSFA]    2010-12-07   \n",
       "1576                                             [HSFA]    2010-09-28   \n",
       "1577                                             [HSFA]    2010-09-28   \n",
       "1655                                             [HSFA]    2010-04-14   \n",
       "1801                                             [HSFA]    2009-06-02   \n",
       "2125                                             [HSFA]    2012-01-30   \n",
       "2126                                             [HSFA]    2011-07-27   \n",
       "2127                                             [HSFA]    2011-07-18   \n",
       "2128                                       [SSFR, HSFA]    2011-05-12   \n",
       "2129                                       [SSFR, HSFA]    2011-05-05   \n",
       "2130                                       [SSJU, HSFA]    2012-06-14   \n",
       "2131                                             [HSFA]    2012-05-24   \n",
       "2260  [HSWM, HSIF, HSIF14, HSPW, HSII, HSFA, HSBA, H...    2011-12-23   \n",
       "2428                                             [HSFA]    2012-11-16   \n",
       "2599                         [HSFA, HSJU, HSJU03, HSED]    2011-12-16   \n",
       "\n",
       "            last_action_at          last_vote_at  \\\n",
       "408   2016-07-13T22:21:32Z  2016-07-13T22:21:11Z   \n",
       "416   2016-09-12T18:36:14Z  2016-09-12T18:36:13Z   \n",
       "456             2016-07-18            2016-07-14   \n",
       "718             2016-12-16            2016-12-10   \n",
       "757             2015-05-20            2015-05-11   \n",
       "811   2015-03-23T23:09:29Z  2015-03-23T23:09:28Z   \n",
       "928             2014-12-18            2014-12-13   \n",
       "968   2014-09-18T23:06:00Z  2014-09-18T23:06:00Z   \n",
       "1075            2014-08-01            2014-07-31   \n",
       "1204            2013-10-04            2013-10-03   \n",
       "1463  2010-12-22T22:41:00Z  2010-12-22T22:41:00Z   \n",
       "1464            2010-03-19            2010-03-18   \n",
       "1465  2009-10-29T15:58:00Z  2009-10-29T15:58:00Z   \n",
       "1466            2009-06-19            2009-06-18   \n",
       "1467            2009-06-02            2009-05-21   \n",
       "1468            2009-04-23            2009-04-22   \n",
       "1469            2009-07-21            2009-07-20   \n",
       "1470            2009-03-10            2009-03-09   \n",
       "1497            2009-12-19            2009-12-18   \n",
       "1552  2010-12-16T00:41:00Z  2010-12-16T00:41:00Z   \n",
       "1555  2010-12-07T21:15:00Z  2010-12-07T21:15:00Z   \n",
       "1576  2010-09-28T20:29:00Z  2010-09-28T20:29:00Z   \n",
       "1577  2010-09-28T20:26:00Z  2010-09-28T20:26:00Z   \n",
       "1655  2010-04-14T20:46:00Z  2010-04-14T20:46:00Z   \n",
       "1801  2009-06-02T23:21:00Z  2009-06-02T23:21:00Z   \n",
       "2125            2012-01-31            2012-01-30   \n",
       "2126            2011-07-28            2011-07-27   \n",
       "2127            2011-07-19            2011-07-18   \n",
       "2128  2012-09-11T22:58:00Z  2012-09-11T22:58:00Z   \n",
       "2129            2011-06-28            2011-06-27   \n",
       "2130            2013-01-14  2013-01-02T04:12:00Z   \n",
       "2131            2012-09-25            2012-09-22   \n",
       "2260            2011-12-23  2011-12-23T15:05:00Z   \n",
       "2428  2012-11-16T17:05:00Z  2012-11-16T17:05:00Z   \n",
       "2599            2012-07-26  2012-07-17T23:05:00Z   \n",
       "\n",
       "                                         official_title  \\\n",
       "408   Condemning the terrorist attack on the Pulse O...   \n",
       "416   A concurrent resolution expressing support for...   \n",
       "456   A concurrent resolution expressing the sense o...   \n",
       "718   An original bill to authorize the Department o...   \n",
       "757   A concurrent resolution stating the policy of ...   \n",
       "811   Calling on the President to provide Ukraine wi...   \n",
       "928   To impose sanctions with respect to the Russia...   \n",
       "968   Expressing the condolences of the House of Rep...   \n",
       "1075  A joint resolution relating to the approval an...   \n",
       "1204  To extend the period during which Iraqis who w...   \n",
       "1463  A concurrent resolution celebrating 130 years ...   \n",
       "1464  A concurrent resolution recognizing the life o...   \n",
       "1465  A concurrent resolution encouraging the Govern...   \n",
       "1466  A concurrent resolution supporting the goals a...   \n",
       "1467  A concurrent resolution expressing the sense o...   \n",
       "1468  A concurrent resolution supporting the goals a...   \n",
       "1469  A concurrent resolution condemning all forms o...   \n",
       "1470  A concurrent resolution calling on the Preside...   \n",
       "1497  Expressing sympathy for the 57 civilians who w...   \n",
       "1552  Supporting a negotiated solution to the Israel...   \n",
       "1555  Mourning the loss of life and expressing condo...   \n",
       "1576  Expressing support for the 33 trapped Chilean ...   \n",
       "1577  Honoring the lives of the brave and selfless h...   \n",
       "1655  Expressing sympathy to the people of Poland in...   \n",
       "1801  Recognizing the twentieth anniversary of the s...   \n",
       "2125  A concurrent resolution expressing the sense o...   \n",
       "2126  A concurrent resolution supporting the goals a...   \n",
       "2127  A concurrent resolution welcoming the independ...   \n",
       "2128  A concurrent resolution expressing the sense o...   \n",
       "2129  A concurrent resolution supporting the goals a...   \n",
       "2130  A joint resolution granting the consent of Con...   \n",
       "2131  A joint resolution expressing the sense of Con...   \n",
       "2260  To extend the payroll tax holiday, unemploymen...   \n",
       "2428  Expressing vigorous support and unwavering com...   \n",
       "2599  A bill to improve the administration of progra...   \n",
       "\n",
       "                                                   urls  \\\n",
       "408   {u'govtrack': u'https://www.govtrack.us/congre...   \n",
       "416   {u'govtrack': u'https://www.govtrack.us/congre...   \n",
       "456   {u'govtrack': u'https://www.govtrack.us/congre...   \n",
       "718   {u'govtrack': u'https://www.govtrack.us/congre...   \n",
       "757   {u'govtrack': u'https://www.govtrack.us/congre...   \n",
       "811   {u'govtrack': u'https://www.govtrack.us/congre...   \n",
       "928   {u'opencongress': u'http://www.opencongress.or...   \n",
       "968   {u'opencongress': u'http://www.opencongress.or...   \n",
       "1075  {u'opencongress': u'http://www.opencongress.or...   \n",
       "1204  {u'opencongress': u'http://www.opencongress.or...   \n",
       "1463  {u'opencongress': u'http://www.opencongress.or...   \n",
       "1464  {u'opencongress': u'http://www.opencongress.or...   \n",
       "1465  {u'opencongress': u'http://www.opencongress.or...   \n",
       "1466  {u'opencongress': u'http://www.opencongress.or...   \n",
       "1467  {u'opencongress': u'http://www.opencongress.or...   \n",
       "1468  {u'opencongress': u'http://www.opencongress.or...   \n",
       "1469  {u'opencongress': u'http://www.opencongress.or...   \n",
       "1470  {u'opencongress': u'http://www.opencongress.or...   \n",
       "1497  {u'opencongress': u'http://www.opencongress.or...   \n",
       "1552  {u'opencongress': u'http://www.opencongress.or...   \n",
       "1555  {u'opencongress': u'http://www.opencongress.or...   \n",
       "1576  {u'opencongress': u'http://www.opencongress.or...   \n",
       "1577  {u'opencongress': u'http://www.opencongress.or...   \n",
       "1655  {u'opencongress': u'http://www.opencongress.or...   \n",
       "1801  {u'opencongress': u'http://www.opencongress.or...   \n",
       "2125  {u'opencongress': u'http://www.opencongress.or...   \n",
       "2126  {u'opencongress': u'http://www.opencongress.or...   \n",
       "2127  {u'opencongress': u'http://www.opencongress.or...   \n",
       "2128  {u'opencongress': u'http://www.opencongress.or...   \n",
       "2129  {u'opencongress': u'http://www.opencongress.or...   \n",
       "2130  {u'opencongress': u'http://www.opencongress.or...   \n",
       "2131  {u'opencongress': u'http://www.opencongress.or...   \n",
       "2260  {u'opencongress': u'http://www.opencongress.or...   \n",
       "2428  {u'opencongress': u'http://www.opencongress.or...   \n",
       "2599  {u'opencongress': u'http://www.opencongress.or...   \n",
       "\n",
       "                                               billtext  \n",
       "408   <!DOCTYPE html PUBLIC \"-//W3C//DTD XHTML 1.0 S...  \n",
       "416   <!DOCTYPE html PUBLIC \"-//W3C//DTD XHTML 1.0 S...  \n",
       "456   <!DOCTYPE html PUBLIC \"-//W3C//DTD XHTML 1.0 S...  \n",
       "718   <!DOCTYPE html PUBLIC \"-//W3C//DTD XHTML 1.0 S...  \n",
       "757   <!DOCTYPE html PUBLIC \"-//W3C//DTD XHTML 1.0 S...  \n",
       "811   <!DOCTYPE html PUBLIC \"-//W3C//DTD XHTML 1.0 S...  \n",
       "928   <!DOCTYPE html PUBLIC \"-//W3C//DTD XHTML 1.0 S...  \n",
       "968   <!DOCTYPE html PUBLIC \"-//W3C//DTD XHTML 1.0 S...  \n",
       "1075  <!DOCTYPE html PUBLIC \"-//W3C//DTD XHTML 1.0 S...  \n",
       "1204  <!DOCTYPE html PUBLIC \"-//W3C//DTD XHTML 1.0 S...  \n",
       "1463  <!DOCTYPE html PUBLIC \"-//W3C//DTD XHTML 1.0 S...  \n",
       "1464  <!DOCTYPE html PUBLIC \"-//W3C//DTD XHTML 1.0 S...  \n",
       "1465  <!DOCTYPE html PUBLIC \"-//W3C//DTD XHTML 1.0 S...  \n",
       "1466  <!DOCTYPE html PUBLIC \"-//W3C//DTD XHTML 1.0 S...  \n",
       "1467  <!DOCTYPE html PUBLIC \"-//W3C//DTD XHTML 1.0 S...  \n",
       "1468  <!DOCTYPE html PUBLIC \"-//W3C//DTD XHTML 1.0 S...  \n",
       "1469  <!DOCTYPE html PUBLIC \"-//W3C//DTD XHTML 1.0 S...  \n",
       "1470  <!DOCTYPE html PUBLIC \"-//W3C//DTD XHTML 1.0 S...  \n",
       "1497  <!DOCTYPE html PUBLIC \"-//W3C//DTD XHTML 1.0 S...  \n",
       "1552  <!DOCTYPE html PUBLIC \"-//W3C//DTD XHTML 1.0 S...  \n",
       "1555  <!DOCTYPE html PUBLIC \"-//W3C//DTD XHTML 1.0 S...  \n",
       "1576  <!DOCTYPE html PUBLIC \"-//W3C//DTD XHTML 1.0 S...  \n",
       "1577  <!DOCTYPE html PUBLIC \"-//W3C//DTD XHTML 1.0 S...  \n",
       "1655  <!DOCTYPE html PUBLIC \"-//W3C//DTD XHTML 1.0 S...  \n",
       "1801  <!DOCTYPE html PUBLIC \"-//W3C//DTD XHTML 1.0 S...  \n",
       "2125  <!DOCTYPE html PUBLIC \"-//W3C//DTD XHTML 1.0 S...  \n",
       "2126  <!DOCTYPE html PUBLIC \"-//W3C//DTD XHTML 1.0 S...  \n",
       "2127  <!DOCTYPE html PUBLIC \"-//W3C//DTD XHTML 1.0 S...  \n",
       "2128  <!DOCTYPE html PUBLIC \"-//W3C//DTD XHTML 1.0 S...  \n",
       "2129  <!DOCTYPE html PUBLIC \"-//W3C//DTD XHTML 1.0 S...  \n",
       "2130  <!DOCTYPE html PUBLIC \"-//W3C//DTD XHTML 1.0 S...  \n",
       "2131  <!DOCTYPE html PUBLIC \"-//W3C//DTD XHTML 1.0 S...  \n",
       "2260  <!DOCTYPE html PUBLIC \"-//W3C//DTD XHTML 1.0 S...  \n",
       "2428  <!DOCTYPE html PUBLIC \"-//W3C//DTD XHTML 1.0 S...  \n",
       "2599  <!DOCTYPE html PUBLIC \"-//W3C//DTD XHTML 1.0 S...  "
      ]
     },
     "execution_count": 199,
     "metadata": {},
     "output_type": "execute_result"
    }
   ],
   "source": [
    "# Visual inspection to discard other link among them\n",
    "doctype"
   ]
  },
  {
   "cell_type": "code",
   "execution_count": 215,
   "metadata": {
    "collapsed": true
   },
   "outputs": [],
   "source": [
    "# Dropping the entries we failed to find bill text. \n",
    "billstargs.drop(([408], [416], [456], [718], [757], [811], [928], [968], [1075], [1204], [1463], [1464], [1466], [1467], [1468], [1469], [1470], [1497], [1552], [1555], [1576], [1577], [1655], [1801], [2125], [2126], [2127], [2128], [2129], [2130], [2131], [2260], [2428], [2599]), inplace=True)\n"
   ]
  },
  {
   "cell_type": "code",
   "execution_count": 24,
   "metadata": {
    "collapsed": true
   },
   "outputs": [],
   "source": [
    "url1 = \"https://api.propublica.org/congress/v1/members/R000435/votes.json\""
   ]
  },
  {
   "cell_type": "code",
   "execution_count": 30,
   "metadata": {},
   "outputs": [
    {
     "data": {
      "text/plain": [
       "200"
      ]
     },
     "execution_count": 30,
     "metadata": {},
     "output_type": "execute_result"
    }
   ],
   "source": [
    "# Testing api authentication\n",
    "headers = {'X-Api-Key': '[Enter your API Key Here]'}\n",
    "r = requests.get(url1, headers= headers)   \n",
    "r.status_code"
   ]
  },
  {
   "cell_type": "code",
   "execution_count": 188,
   "metadata": {},
   "outputs": [
    {
     "name": "stdout",
     "output_type": "stream",
     "text": [
      "2568\n"
     ]
    }
   ],
   "source": [
    "# Creating parallel lists I can use to iterate for a scrap and as reference to place data in a panda frame\n",
    "conglist = billstargs.congress.tolist()\n",
    "billlist= billstargs.bill_id.tolist()\n",
    "billlist = [s[:-4] for s in billlist]  # Origninal data had a 4 digit add-on to denote Congress number. Hence the -4.\n",
    "\n",
    "print len(billlist)"
   ]
  },
  {
   "cell_type": "code",
   "execution_count": 196,
   "metadata": {},
   "outputs": [
    {
     "name": "stdout",
     "output_type": "stream",
     "text": [
      "(56482, 4)\n"
     ]
    }
   ],
   "source": [
    "# Here we scrape the ProPublica API's url structure to get IRL's sponsorship position on our field of bills.\n",
    "url_template = \"https://api.propublica.org/congress/v1/{}/bills/{}/cosponsors.json\"\n",
    "\n",
    "df= pd.DataFrame()\n",
    "\n",
    "for bill in range(len(billlist)):       \n",
    "    \n",
    "    data = requests.get(url_template.format(conglist[bill], billlist[bill]), headers = headers)   \n",
    "    for i in data.json()['results']:\n",
    "        for g in i['sponsor_id']:\n",
    "            if g == \"R000435\":  # Ileana Ros-Lehtinen's ID in the system.\n",
    "                try:\n",
    "                    df = df.append({'bill':billlist[bill], 'congress':conglist[bill], 'irlco': 1, 'irlsp':1 }, ignore_index=True)\n",
    "                except:\n",
    "                    pass\n",
    "        for j in i[\"cosponsors\"]:\n",
    "            if j['cosponsor_id'] == \"R000435\":\n",
    "                try:\n",
    "                    df = df.append({'bill':billlist[bill], 'congress':conglist[bill], 'irlco': 1, 'irlsp':1 }, ignore_index=True)  \n",
    "                except:\n",
    "                    pass\n",
    "            else:\n",
    "                try:\n",
    "                    df = df.append({'bill':billlist[bill], 'congress':conglist[bill], 'irlco': 0}, ignore_index = True)  \n",
    "                except:\n",
    "                    pass\n",
    "                \n",
    "print df.shape"
   ]
  },
  {
   "cell_type": "code",
   "execution_count": 200,
   "metadata": {
    "collapsed": true,
    "scrolled": true
   },
   "outputs": [],
   "source": [
    "df.drop_duplicates(inplace=True)"
   ]
  },
  {
   "cell_type": "code",
   "execution_count": 201,
   "metadata": {},
   "outputs": [
    {
     "data": {
      "text/plain": [
       "(2477, 4)"
      ]
     },
     "execution_count": 201,
     "metadata": {},
     "output_type": "execute_result"
    }
   ],
   "source": [
    "# Once we drop duplicates, we end up with a number of bills similar to what we started. We scored almost all our bills!\n",
    "df.shape"
   ]
  },
  {
   "cell_type": "code",
   "execution_count": 14,
   "metadata": {},
   "outputs": [
    {
     "data": {
      "text/plain": [
       "310.0"
      ]
     },
     "execution_count": 14,
     "metadata": {},
     "output_type": "execute_result"
    }
   ],
   "source": [
    "# Let's see our classes numbers. Not bad, 312 vs. 2165. Unbalanced, but not insignificant\n",
    "df.irlco.sum()"
   ]
  },
  {
   "cell_type": "code",
   "execution_count": 13,
   "metadata": {},
   "outputs": [
    {
     "data": {
      "text/plain": [
       "310.0"
      ]
     },
     "execution_count": 13,
     "metadata": {},
     "output_type": "execute_result"
    }
   ],
   "source": [
    "df = df.reset_index()\n",
    "\n",
    "df.irlco.sum()"
   ]
  },
  {
   "cell_type": "code",
   "execution_count": 40,
   "metadata": {
    "scrolled": true
   },
   "outputs": [
    {
     "data": {
      "text/html": [
       "<div>\n",
       "<style>\n",
       "    .dataframe thead tr:only-child th {\n",
       "        text-align: right;\n",
       "    }\n",
       "\n",
       "    .dataframe thead th {\n",
       "        text-align: left;\n",
       "    }\n",
       "\n",
       "    .dataframe tbody tr th {\n",
       "        vertical-align: top;\n",
       "    }\n",
       "</style>\n",
       "<table border=\"1\" class=\"dataframe\">\n",
       "  <thead>\n",
       "    <tr style=\"text-align: right;\">\n",
       "      <th></th>\n",
       "      <th>bill</th>\n",
       "      <th>congress</th>\n",
       "      <th>irlco</th>\n",
       "    </tr>\n",
       "  </thead>\n",
       "  <tbody>\n",
       "    <tr>\n",
       "      <th>0</th>\n",
       "      <td>hres491</td>\n",
       "      <td>115.0</td>\n",
       "      <td>0.0</td>\n",
       "    </tr>\n",
       "    <tr>\n",
       "      <th>1</th>\n",
       "      <td>hres486</td>\n",
       "      <td>115.0</td>\n",
       "      <td>0.0</td>\n",
       "    </tr>\n",
       "    <tr>\n",
       "      <th>2</th>\n",
       "      <td>hr3548</td>\n",
       "      <td>115.0</td>\n",
       "      <td>0.0</td>\n",
       "    </tr>\n",
       "    <tr>\n",
       "      <th>3</th>\n",
       "      <td>hr3547</td>\n",
       "      <td>115.0</td>\n",
       "      <td>0.0</td>\n",
       "    </tr>\n",
       "    <tr>\n",
       "      <th>4</th>\n",
       "      <td>hr3542</td>\n",
       "      <td>115.0</td>\n",
       "      <td>0.0</td>\n",
       "    </tr>\n",
       "  </tbody>\n",
       "</table>\n",
       "</div>"
      ],
      "text/plain": [
       "      bill  congress  irlco\n",
       "0  hres491     115.0    0.0\n",
       "1  hres486     115.0    0.0\n",
       "2   hr3548     115.0    0.0\n",
       "3   hr3547     115.0    0.0\n",
       "4   hr3542     115.0    0.0"
      ]
     },
     "execution_count": 40,
     "metadata": {},
     "output_type": "execute_result"
    }
   ],
   "source": [
    "finaldf = df.drop(['index', 'irlsp'], axis=1)\n",
    "finaldf.head()"
   ]
  },
  {
   "cell_type": "code",
   "execution_count": 58,
   "metadata": {},
   "outputs": [
    {
     "data": {
      "text/html": [
       "<div>\n",
       "<style>\n",
       "    .dataframe thead tr:only-child th {\n",
       "        text-align: right;\n",
       "    }\n",
       "\n",
       "    .dataframe thead th {\n",
       "        text-align: left;\n",
       "    }\n",
       "\n",
       "    .dataframe tbody tr th {\n",
       "        vertical-align: top;\n",
       "    }\n",
       "</style>\n",
       "<table border=\"1\" class=\"dataframe\">\n",
       "  <thead>\n",
       "    <tr style=\"text-align: right;\">\n",
       "      <th></th>\n",
       "      <th>bill</th>\n",
       "      <th>congress</th>\n",
       "      <th>irlco</th>\n",
       "      <th>bill_id</th>\n",
       "    </tr>\n",
       "  </thead>\n",
       "  <tbody>\n",
       "    <tr>\n",
       "      <th>0</th>\n",
       "      <td>hres491</td>\n",
       "      <td>115</td>\n",
       "      <td>0.0</td>\n",
       "      <td>s414-112.0</td>\n",
       "    </tr>\n",
       "    <tr>\n",
       "      <th>1</th>\n",
       "      <td>hres486</td>\n",
       "      <td>115</td>\n",
       "      <td>0.0</td>\n",
       "      <td>s414-112.0</td>\n",
       "    </tr>\n",
       "    <tr>\n",
       "      <th>2</th>\n",
       "      <td>hr3548</td>\n",
       "      <td>115</td>\n",
       "      <td>0.0</td>\n",
       "      <td>s414-112.0</td>\n",
       "    </tr>\n",
       "    <tr>\n",
       "      <th>3</th>\n",
       "      <td>hr3547</td>\n",
       "      <td>115</td>\n",
       "      <td>0.0</td>\n",
       "      <td>s414-112.0</td>\n",
       "    </tr>\n",
       "    <tr>\n",
       "      <th>4</th>\n",
       "      <td>hr3542</td>\n",
       "      <td>115</td>\n",
       "      <td>0.0</td>\n",
       "      <td>s414-112.0</td>\n",
       "    </tr>\n",
       "  </tbody>\n",
       "</table>\n",
       "</div>"
      ],
      "text/plain": [
       "      bill  congress  irlco     bill_id\n",
       "0  hres491       115    0.0  s414-112.0\n",
       "1  hres486       115    0.0  s414-112.0\n",
       "2   hr3548       115    0.0  s414-112.0\n",
       "3   hr3547       115    0.0  s414-112.0\n",
       "4   hr3542       115    0.0  s414-112.0"
      ]
     },
     "execution_count": 58,
     "metadata": {},
     "output_type": "execute_result"
    }
   ],
   "source": [
    "finaldf.congress = finaldf.congress.astype(int)\n",
    "finaldf.head()"
   ]
  },
  {
   "cell_type": "code",
   "execution_count": 47,
   "metadata": {
    "collapsed": true
   },
   "outputs": [],
   "source": [
    "# Bill_id fix\n",
    "finaldf['bill_id'] = np.nan"
   ]
  },
  {
   "cell_type": "code",
   "execution_count": 71,
   "metadata": {},
   "outputs": [
    {
     "data": {
      "text/html": [
       "<div>\n",
       "<style>\n",
       "    .dataframe thead tr:only-child th {\n",
       "        text-align: right;\n",
       "    }\n",
       "\n",
       "    .dataframe thead th {\n",
       "        text-align: left;\n",
       "    }\n",
       "\n",
       "    .dataframe tbody tr th {\n",
       "        vertical-align: top;\n",
       "    }\n",
       "</style>\n",
       "<table border=\"1\" class=\"dataframe\">\n",
       "  <thead>\n",
       "    <tr style=\"text-align: right;\">\n",
       "      <th></th>\n",
       "      <th>bill</th>\n",
       "      <th>congress</th>\n",
       "      <th>irlco</th>\n",
       "      <th>bill_id</th>\n",
       "    </tr>\n",
       "  </thead>\n",
       "  <tbody>\n",
       "    <tr>\n",
       "      <th>0</th>\n",
       "      <td>hres491</td>\n",
       "      <td>115</td>\n",
       "      <td>0.0</td>\n",
       "      <td>hres491-115</td>\n",
       "    </tr>\n",
       "    <tr>\n",
       "      <th>1</th>\n",
       "      <td>hres486</td>\n",
       "      <td>115</td>\n",
       "      <td>0.0</td>\n",
       "      <td>hres486-115</td>\n",
       "    </tr>\n",
       "    <tr>\n",
       "      <th>2</th>\n",
       "      <td>hr3548</td>\n",
       "      <td>115</td>\n",
       "      <td>0.0</td>\n",
       "      <td>hr3548-115</td>\n",
       "    </tr>\n",
       "    <tr>\n",
       "      <th>3</th>\n",
       "      <td>hr3547</td>\n",
       "      <td>115</td>\n",
       "      <td>0.0</td>\n",
       "      <td>hr3547-115</td>\n",
       "    </tr>\n",
       "    <tr>\n",
       "      <th>4</th>\n",
       "      <td>hr3542</td>\n",
       "      <td>115</td>\n",
       "      <td>0.0</td>\n",
       "      <td>hr3542-115</td>\n",
       "    </tr>\n",
       "  </tbody>\n",
       "</table>\n",
       "</div>"
      ],
      "text/plain": [
       "      bill  congress  irlco      bill_id\n",
       "0  hres491       115    0.0  hres491-115\n",
       "1  hres486       115    0.0  hres486-115\n",
       "2   hr3548       115    0.0   hr3548-115\n",
       "3   hr3547       115    0.0   hr3547-115\n",
       "4   hr3542       115    0.0   hr3542-115"
      ]
     },
     "execution_count": 71,
     "metadata": {},
     "output_type": "execute_result"
    }
   ],
   "source": [
    "# Accurate bill_id build to use in web scraper url structure\n",
    "for i in finaldf.bill_id.iteritems():\n",
    "    try:\n",
    "        finaldf.bill_id[i] = str(finaldf.bill[i]+\"-\"+str(finaldf.congress[i]))\n",
    "    except:\n",
    "        pass\n",
    "finaldf.head()"
   ]
  },
  {
   "cell_type": "code",
   "execution_count": 84,
   "metadata": {},
   "outputs": [
    {
     "data": {
      "text/html": [
       "<div>\n",
       "<style>\n",
       "    .dataframe thead tr:only-child th {\n",
       "        text-align: right;\n",
       "    }\n",
       "\n",
       "    .dataframe thead th {\n",
       "        text-align: left;\n",
       "    }\n",
       "\n",
       "    .dataframe tbody tr th {\n",
       "        vertical-align: top;\n",
       "    }\n",
       "</style>\n",
       "<table border=\"1\" class=\"dataframe\">\n",
       "  <thead>\n",
       "    <tr style=\"text-align: right;\">\n",
       "      <th></th>\n",
       "      <th>data_type</th>\n",
       "      <th>null_count</th>\n",
       "      <th>unique_count</th>\n",
       "    </tr>\n",
       "  </thead>\n",
       "  <tbody>\n",
       "    <tr>\n",
       "      <th>bill</th>\n",
       "      <td>{str}</td>\n",
       "      <td>0</td>\n",
       "      <td>1878</td>\n",
       "    </tr>\n",
       "    <tr>\n",
       "      <th>congress</th>\n",
       "      <td>{int64}</td>\n",
       "      <td>0</td>\n",
       "      <td>5</td>\n",
       "    </tr>\n",
       "    <tr>\n",
       "      <th>irlco</th>\n",
       "      <td>{float64}</td>\n",
       "      <td>0</td>\n",
       "      <td>2</td>\n",
       "    </tr>\n",
       "    <tr>\n",
       "      <th>bill_id</th>\n",
       "      <td>{str}</td>\n",
       "      <td>0</td>\n",
       "      <td>2175</td>\n",
       "    </tr>\n",
       "  </tbody>\n",
       "</table>\n",
       "</div>"
      ],
      "text/plain": [
       "          data_type  null_count  unique_count\n",
       "bill          {str}           0          1878\n",
       "congress    {int64}           0             5\n",
       "irlco     {float64}           0             2\n",
       "bill_id       {str}           0          2175"
      ]
     },
     "execution_count": 84,
     "metadata": {},
     "output_type": "execute_result"
    }
   ],
   "source": [
    "# Checking for uniformity in the data so I can proceed\n",
    "eda_helper(finaldf)"
   ]
  },
  {
   "cell_type": "code",
   "execution_count": 85,
   "metadata": {
    "collapsed": true
   },
   "outputs": [],
   "source": [
    "finaldf.to_csv('irl_votes.csv')"
   ]
  },
  {
   "cell_type": "code",
   "execution_count": 8,
   "metadata": {
    "collapsed": true
   },
   "outputs": [],
   "source": [
    "# From here and for a while I work on methods to clean U.S. House bills specfically.\n",
    "# This includes decisions of where to begin considered text.\n",
    "\n",
    "billstargs.billtext = billstargs.billtext.replace({r'\\n': '', r'<html><body><pre>': '', r'</pre></body></html>': '', r'_':'', r'&lt;all&gt;': '', r'&lt;DOC&gt;':'', r'  ': ' ', r'   ': ' ', r'    ':'', r'(\\d)': '', r'[()]':'', r';':'', r'--':'', r',':'', r':':'', r'\\.(?!\\d)': ''}, regex=True)"
   ]
  },
  {
   "cell_type": "code",
   "execution_count": 10,
   "metadata": {
    "collapsed": true
   },
   "outputs": [],
   "source": [
    "# Bills follow a specific structure. Only at the beginning of actual content\n",
    "# will you find the all caps 2 word combination \"A BILL\". I split the text\n",
    "# at that juncture and keep desired text.\n",
    "\n",
    "def replace_bill(text):\n",
    "    s = text.split('A BILL')\n",
    "    if len(s) > 1:\n",
    "        return s[1].strip()\n",
    "    else:\n",
    "        return s[0]"
   ]
  },
  {
   "cell_type": "code",
   "execution_count": 11,
   "metadata": {
    "collapsed": true
   },
   "outputs": [],
   "source": [
    "# Applying the function to the bill text\n",
    "\n",
    "for i in range(len(billstargs.billtext)):\n",
    "    value = billstargs.get_value(i, 'billtext')\n",
    "    billstargs.set_value(i, 'billtext', replace_bill(value))"
   ]
  },
  {
   "cell_type": "code",
   "execution_count": 12,
   "metadata": {
    "collapsed": true
   },
   "outputs": [],
   "source": [
    "# The same principle applies to the different types of resolutions.\n",
    "# \"RESOLUTION\" being the common factor among them, it was an easy choice for this split.\n",
    "\n",
    "def replace_resolution(text):\n",
    "    s = text.split('RESOLUTION')\n",
    "    if len(s) > 1:\n",
    "        return s[1].strip()\n",
    "    else:\n",
    "        return s[0]"
   ]
  },
  {
   "cell_type": "code",
   "execution_count": 13,
   "metadata": {
    "collapsed": true
   },
   "outputs": [],
   "source": [
    "for i in range(len(billstargs.billtext)):\n",
    "    value = billstargs.get_value(i, 'billtext')\n",
    "    billstargs.set_value(i, 'billtext', replace_resolution(value))\n"
   ]
  },
  {
   "cell_type": "code",
   "execution_count": 16,
   "metadata": {
    "collapsed": true
   },
   "outputs": [],
   "source": [
    "# From my previous study of the data, I drop the columns I know wont be useful in our analysis\n",
    "\n",
    "billstargs.drop(['congress', 'number', 'chamber', 'committee_ids', 'introduced_on', 'last_action_at', 'last_vote_at', 'official_title', 'urls'], axis=1, inplace=True)"
   ]
  },
  {
   "cell_type": "code",
   "execution_count": 3,
   "metadata": {},
   "outputs": [
    {
     "data": {
      "text/html": [
       "<div>\n",
       "<style>\n",
       "    .dataframe thead tr:only-child th {\n",
       "        text-align: right;\n",
       "    }\n",
       "\n",
       "    .dataframe thead th {\n",
       "        text-align: left;\n",
       "    }\n",
       "\n",
       "    .dataframe tbody tr th {\n",
       "        vertical-align: top;\n",
       "    }\n",
       "</style>\n",
       "<table border=\"1\" class=\"dataframe\">\n",
       "  <thead>\n",
       "    <tr style=\"text-align: right;\">\n",
       "      <th></th>\n",
       "      <th>irlco</th>\n",
       "      <th>bill_id</th>\n",
       "    </tr>\n",
       "  </thead>\n",
       "  <tbody>\n",
       "    <tr>\n",
       "      <th>0</th>\n",
       "      <td>0.0</td>\n",
       "      <td>hres491-115</td>\n",
       "    </tr>\n",
       "    <tr>\n",
       "      <th>1</th>\n",
       "      <td>0.0</td>\n",
       "      <td>hres486-115</td>\n",
       "    </tr>\n",
       "    <tr>\n",
       "      <th>2</th>\n",
       "      <td>0.0</td>\n",
       "      <td>hr3548-115</td>\n",
       "    </tr>\n",
       "    <tr>\n",
       "      <th>3</th>\n",
       "      <td>0.0</td>\n",
       "      <td>hr3547-115</td>\n",
       "    </tr>\n",
       "    <tr>\n",
       "      <th>4</th>\n",
       "      <td>0.0</td>\n",
       "      <td>hr3542-115</td>\n",
       "    </tr>\n",
       "  </tbody>\n",
       "</table>\n",
       "</div>"
      ],
      "text/plain": [
       "   irlco      bill_id\n",
       "0    0.0  hres491-115\n",
       "1    0.0  hres486-115\n",
       "2    0.0   hr3548-115\n",
       "3    0.0   hr3547-115\n",
       "4    0.0   hr3542-115"
      ]
     },
     "execution_count": 3,
     "metadata": {},
     "output_type": "execute_result"
    }
   ],
   "source": [
    "# To prep the voting record for our merge, we drop columns we will no longer use\n",
    "\n",
    "irl.drop(['bill', 'congress'], axis=1, inplace=True)\n",
    "irl.head()"
   ]
  },
  {
   "cell_type": "code",
   "execution_count": 18,
   "metadata": {
    "scrolled": true
   },
   "outputs": [
    {
     "data": {
      "text/html": [
       "<div>\n",
       "<style>\n",
       "    .dataframe thead tr:only-child th {\n",
       "        text-align: right;\n",
       "    }\n",
       "\n",
       "    .dataframe thead th {\n",
       "        text-align: left;\n",
       "    }\n",
       "\n",
       "    .dataframe tbody tr th {\n",
       "        vertical-align: top;\n",
       "    }\n",
       "</style>\n",
       "<table border=\"1\" class=\"dataframe\">\n",
       "  <thead>\n",
       "    <tr style=\"text-align: right;\">\n",
       "      <th></th>\n",
       "      <th>irlco</th>\n",
       "      <th>bill_id</th>\n",
       "      <th>bill_type</th>\n",
       "      <th>billtext</th>\n",
       "    </tr>\n",
       "  </thead>\n",
       "  <tbody>\n",
       "    <tr>\n",
       "      <th>0</th>\n",
       "      <td>0.0</td>\n",
       "      <td>hres491-115</td>\n",
       "      <td>hres</td>\n",
       "      <td>A resolution affirming and recognizing the Khm...</td>\n",
       "    </tr>\n",
       "    <tr>\n",
       "      <th>1</th>\n",
       "      <td>0.0</td>\n",
       "      <td>hres486-115</td>\n",
       "      <td>hres</td>\n",
       "      <td>Calling on the Government of Iraq to compensat...</td>\n",
       "    </tr>\n",
       "  </tbody>\n",
       "</table>\n",
       "</div>"
      ],
      "text/plain": [
       "   irlco      bill_id bill_type  \\\n",
       "0    0.0  hres491-115      hres   \n",
       "1    0.0  hres486-115      hres   \n",
       "\n",
       "                                            billtext  \n",
       "0  A resolution affirming and recognizing the Khm...  \n",
       "1  Calling on the Government of Iraq to compensat...  "
      ]
     },
     "execution_count": 18,
     "metadata": {},
     "output_type": "execute_result"
    }
   ],
   "source": [
    "# Merging data sets on bill_id column\n",
    "# Only introduction of the bill carries sponsorship data, so previous versions were dropped as duplicates.\n",
    "\n",
    "data = pd.merge(irl, billstargs, left_on='bill_id', right_on='bill_id')\n",
    "data.drop_duplicates(['bill_id'], keep='last')\n"
   ]
  },
  {
   "cell_type": "code",
   "execution_count": 19,
   "metadata": {
    "scrolled": true
   },
   "outputs": [
    {
     "data": {
      "text/html": [
       "<div>\n",
       "<style>\n",
       "    .dataframe thead tr:only-child th {\n",
       "        text-align: right;\n",
       "    }\n",
       "\n",
       "    .dataframe thead th {\n",
       "        text-align: left;\n",
       "    }\n",
       "\n",
       "    .dataframe tbody tr th {\n",
       "        vertical-align: top;\n",
       "    }\n",
       "</style>\n",
       "<table border=\"1\" class=\"dataframe\">\n",
       "  <thead>\n",
       "    <tr style=\"text-align: right;\">\n",
       "      <th></th>\n",
       "      <th>irlco</th>\n",
       "      <th>billtext</th>\n",
       "    </tr>\n",
       "  </thead>\n",
       "  <tbody>\n",
       "    <tr>\n",
       "      <th>0</th>\n",
       "      <td>0.0</td>\n",
       "      <td>a resolution affirming and recognizing the khm...</td>\n",
       "    </tr>\n",
       "    <tr>\n",
       "      <th>1</th>\n",
       "      <td>0.0</td>\n",
       "      <td>calling on the government of iraq to compensat...</td>\n",
       "    </tr>\n",
       "  </tbody>\n",
       "</table>\n",
       "</div>"
      ],
      "text/plain": [
       "   irlco                                           billtext\n",
       "0    0.0  a resolution affirming and recognizing the khm...\n",
       "1    0.0  calling on the government of iraq to compensat..."
      ]
     },
     "execution_count": 19,
     "metadata": {},
     "output_type": "execute_result"
    }
   ],
   "source": [
    "# By creating dummy variables to codify the type of bill as a variable,\n",
    "# we can use it alongside densed count vectorized text.\n",
    "# Here we also convert the bill text to all lower case in order to better match word instances\n",
    "\n",
    "btypedums = pd.get_dummies(data.bill_type)\n",
    "data.drop(['bill_id', 'bill_type'], axis=1, inplace=True)\n",
    "data.billtext = map(str.lower, data.billtext)\n"
   ]
  },
  {
   "cell_type": "code",
   "execution_count": 45,
   "metadata": {
    "collapsed": true
   },
   "outputs": [],
   "source": [
    "# Concating the dummies to the response variable and bill text, \n",
    "# we have our pre-vectorized final dataset\n",
    "\n",
    "data= pd.concat([btypedums, data], axis=1)"
   ]
  },
  {
   "cell_type": "markdown",
   "metadata": {},
   "source": [
    "### Exploratory Data Analysis and Modeling Data Prep"
   ]
  },
  {
   "cell_type": "code",
   "execution_count": 17,
   "metadata": {
    "collapsed": true
   },
   "outputs": [],
   "source": [
    "# We begin to prepare our X and y to model fit. Here the X is created by dropping the response variable.\n",
    "data = pd.read_csv('datafinal.csv')\n",
    "xprep = data.copy()\n",
    "xprep.drop('irlco', axis=1, inplace=True)\n",
    "xprep.columns.values[2] = '1hr'"
   ]
  },
  {
   "cell_type": "code",
   "execution_count": 18,
   "metadata": {
    "collapsed": true
   },
   "outputs": [],
   "source": [
    "# My next task will be to vectorize the text, so I call up the stop \n",
    "# words to add a few that are present in almost all legislation and \n",
    "# which are no descriptive of our response variable.\n",
    "\n",
    "stops = stopwords.words('english')\n",
    "more = \"united states whereas section country subsection shall act paragraph countries ii usc aa aaaa aaiiiiiaabb ag bb aab aai aaiii aaii aaiiiii ab iii iv b c d e\".split()\n",
    "stops += more"
   ]
  },
  {
   "cell_type": "code",
   "execution_count": 19,
   "metadata": {
    "collapsed": true
   },
   "outputs": [],
   "source": [
    "# Instatiated a countvectorizer with parameter I worked over in several \n",
    "# attemps looking for the best signal.\n",
    "# We set the results to a dataframe with the words as column names\n",
    "# This is an EDA intended vectorizing, and the parameters are product of \n",
    "# trial and error looking for signal\n",
    "\n",
    "vectorizers = cvec.fit_transform(xprep.billtext)\n",
    "\n",
    "df_vec = pd.DataFrame(vectorizers.todense(), columns = cvec.get_feature_names())\n"
   ]
  },
  {
   "cell_type": "code",
   "execution_count": 20,
   "metadata": {},
   "outputs": [
    {
     "data": {
      "text/plain": [
       "secretary        21043\n",
       "state            15992\n",
       "may              14623\n",
       "government       13303\n",
       "including        13219\n",
       "international    12365\n",
       "security         12132\n",
       "foreign          12110\n",
       "assistance        9274\n",
       "president         9207\n",
       "date              8952\n",
       "term              8558\n",
       "year              8347\n",
       "federal           8056\n",
       "dtype: int64"
      ]
     },
     "execution_count": 20,
     "metadata": {},
     "output_type": "execute_result"
    }
   ],
   "source": [
    "# Inspect the most common terms. No big surprises here, though I should \n",
    "# consider adding 'may' to the stop list\n",
    "\n",
    "\n",
    "df_vec_sums = df_vec.sum()\n",
    "df_vec_sums = df_vec_sums.sort_values(ascending=False)\n",
    "\n",
    "dftops = df_vec_sums[df_vec_sums>=8000]\n",
    "dftops"
   ]
  },
  {
   "cell_type": "code",
   "execution_count": 6,
   "metadata": {},
   "outputs": [
    {
     "data": {
      "text/plain": [
       "<matplotlib.axes._subplots.AxesSubplot at 0x1274cdb90>"
      ]
     },
     "execution_count": 6,
     "metadata": {},
     "output_type": "execute_result"
    },
    {
     "data": {
      "image/png": "[encoded data removed]",
      "text/plain": [
       "<matplotlib.figure.Figure at 0x1112a4190>"
      ]
     },
     "metadata": {},
     "output_type": "display_data"
    }
   ],
   "source": [
    "# plot the results to get a visual idea of their relationship and frequency\n",
    "# Also, it would seem they give the secretary of state a lot of directions.\n",
    "\n",
    "dftops.plot(kind='bar')"
   ]
  },
  {
   "cell_type": "code",
   "execution_count": 18,
   "metadata": {},
   "outputs": [
    {
     "data": {
      "text/plain": [
       "<matplotlib.text.Text at 0x140f24f90>"
      ]
     },
     "execution_count": 18,
     "metadata": {},
     "output_type": "execute_result"
    },
    {
     "data": {
      "image/png": "[encoded data removed]",
      "text/plain": [
       "<matplotlib.figure.Figure at 0x1417505d0>"
      ]
     },
     "metadata": {},
     "output_type": "display_data"
    }
   ],
   "source": [
    "# Now let's see how many bills per session in our data\n",
    "dfp.groupby(\"congress\").bill_type.count().plot(kind='bar')\n",
    "plt.xlabel('Bills per Session')"
   ]
  },
  {
   "cell_type": "code",
   "execution_count": 17,
   "metadata": {},
   "outputs": [
    {
     "data": {
      "image/png": "[encoded data removed]",
      "text/plain": [
       "<matplotlib.figure.Figure at 0x1515acdd0>"
      ]
     },
     "metadata": {},
     "output_type": "display_data"
    }
   ],
   "source": [
    "# ... and the distribution of bill origin by chamber\n",
    "dfp.groupby('chamber').bill_type.count().plot(kind='bar', color='r')\n",
    "plt.xlabel(\"Chamber the Bill was Introduced\")\n",
    "plt.title(\"\")\n",
    "plt.show()"
   ]
  },
  {
   "cell_type": "code",
   "execution_count": 20,
   "metadata": {},
   "outputs": [
    {
     "name": "stdout",
     "output_type": "stream",
     "text": [
      "(2487, 10)\n"
     ]
    },
    {
     "data": {
      "text/plain": [
       "312.0"
      ]
     },
     "execution_count": 20,
     "metadata": {},
     "output_type": "execute_result"
    }
   ],
   "source": [
    "# Inspecting class representation to determine how much should I balance the\n",
    "# unevenness of their frequency.\n",
    "\n",
    "print data.shape\n",
    "sum(data.irlco)"
   ]
  },
  {
   "cell_type": "code",
   "execution_count": 21,
   "metadata": {
    "collapsed": true
   },
   "outputs": [],
   "source": [
    "## Up-Sampling class 1. Not an easy decision since it messes with the integrity of the dataset\n",
    "\n",
    "from sklearn.utils import resample\n",
    "\n",
    "df_majority = data[data.irlco == 0]\n",
    "df_minority = data[data.irlco == 1]\n",
    "\n",
    "# Upsample minority class\n",
    "df_minority_upsampled = resample(df_minority, \n",
    "                                 replace=True,     # sample with replacement\n",
    "                                 n_samples=2175,    # to match majority class\n",
    "                                 random_state=66) # reproducible results"
   ]
  },
  {
   "cell_type": "code",
   "execution_count": 22,
   "metadata": {},
   "outputs": [
    {
     "data": {
      "text/plain": [
       "1.0    2175\n",
       "0.0    2175\n",
       "Name: irlco, dtype: int64"
      ]
     },
     "execution_count": 22,
     "metadata": {},
     "output_type": "execute_result"
    }
   ],
   "source": [
    "# Joining the classes again and checking that they are now balanced.\n",
    "\n",
    "df_upsampled = pd.concat([df_majority, df_minority_upsampled])\n",
    "df_upsampled.irlco.value_counts()"
   ]
  },
  {
   "cell_type": "code",
   "execution_count": 23,
   "metadata": {},
   "outputs": [
    {
     "data": {
      "text/html": [
       "<div>\n",
       "<style>\n",
       "    .dataframe thead tr:only-child th {\n",
       "        text-align: right;\n",
       "    }\n",
       "\n",
       "    .dataframe thead th {\n",
       "        text-align: left;\n",
       "    }\n",
       "\n",
       "    .dataframe tbody tr th {\n",
       "        vertical-align: top;\n",
       "    }\n",
       "</style>\n",
       "<table border=\"1\" class=\"dataframe\">\n",
       "  <thead>\n",
       "    <tr style=\"text-align: right;\">\n",
       "      <th></th>\n",
       "      <th>index</th>\n",
       "      <th>hconres</th>\n",
       "      <th>hjres</th>\n",
       "      <th>1hr</th>\n",
       "      <th>hres</th>\n",
       "      <th>s</th>\n",
       "      <th>sconres</th>\n",
       "      <th>billtext</th>\n",
       "    </tr>\n",
       "  </thead>\n",
       "  <tbody>\n",
       "    <tr>\n",
       "      <th>0</th>\n",
       "      <td>0</td>\n",
       "      <td>0</td>\n",
       "      <td>0</td>\n",
       "      <td>0</td>\n",
       "      <td>1</td>\n",
       "      <td>0</td>\n",
       "      <td>0</td>\n",
       "      <td>a resolution affirming and recognizing the khm...</td>\n",
       "    </tr>\n",
       "    <tr>\n",
       "      <th>1</th>\n",
       "      <td>1</td>\n",
       "      <td>0</td>\n",
       "      <td>0</td>\n",
       "      <td>0</td>\n",
       "      <td>1</td>\n",
       "      <td>0</td>\n",
       "      <td>0</td>\n",
       "      <td>calling on the government of iraq to compensat...</td>\n",
       "    </tr>\n",
       "    <tr>\n",
       "      <th>2</th>\n",
       "      <td>2</td>\n",
       "      <td>0</td>\n",
       "      <td>0</td>\n",
       "      <td>1</td>\n",
       "      <td>0</td>\n",
       "      <td>0</td>\n",
       "      <td>0</td>\n",
       "      <td>to make certain improvements to the security o...</td>\n",
       "    </tr>\n",
       "    <tr>\n",
       "      <th>3</th>\n",
       "      <td>3</td>\n",
       "      <td>0</td>\n",
       "      <td>0</td>\n",
       "      <td>1</td>\n",
       "      <td>0</td>\n",
       "      <td>0</td>\n",
       "      <td>0</td>\n",
       "      <td>to authorize the secretary of state to establi...</td>\n",
       "    </tr>\n",
       "    <tr>\n",
       "      <th>4</th>\n",
       "      <td>4</td>\n",
       "      <td>0</td>\n",
       "      <td>0</td>\n",
       "      <td>1</td>\n",
       "      <td>0</td>\n",
       "      <td>0</td>\n",
       "      <td>0</td>\n",
       "      <td>to impose sanctions against hamas for gross vi...</td>\n",
       "    </tr>\n",
       "    <tr>\n",
       "      <th>5</th>\n",
       "      <td>6</td>\n",
       "      <td>0</td>\n",
       "      <td>0</td>\n",
       "      <td>1</td>\n",
       "      <td>0</td>\n",
       "      <td>0</td>\n",
       "      <td>0</td>\n",
       "      <td>to prohibit the use of funds to return certain...</td>\n",
       "    </tr>\n",
       "    <tr>\n",
       "      <th>6</th>\n",
       "      <td>7</td>\n",
       "      <td>0</td>\n",
       "      <td>0</td>\n",
       "      <td>1</td>\n",
       "      <td>0</td>\n",
       "      <td>0</td>\n",
       "      <td>0</td>\n",
       "      <td>to enhance the transparency and accelerate the...</td>\n",
       "    </tr>\n",
       "    <tr>\n",
       "      <th>7</th>\n",
       "      <td>8</td>\n",
       "      <td>0</td>\n",
       "      <td>0</td>\n",
       "      <td>0</td>\n",
       "      <td>1</td>\n",
       "      <td>0</td>\n",
       "      <td>0</td>\n",
       "      <td>recognizing that international education and e...</td>\n",
       "    </tr>\n",
       "    <tr>\n",
       "      <th>8</th>\n",
       "      <td>9</td>\n",
       "      <td>0</td>\n",
       "      <td>0</td>\n",
       "      <td>1</td>\n",
       "      <td>0</td>\n",
       "      <td>0</td>\n",
       "      <td>0</td>\n",
       "      <td>s by other governments  a in generalnot later ...</td>\n",
       "    </tr>\n",
       "    <tr>\n",
       "      <th>9</th>\n",
       "      <td>10</td>\n",
       "      <td>0</td>\n",
       "      <td>0</td>\n",
       "      <td>0</td>\n",
       "      <td>1</td>\n",
       "      <td>0</td>\n",
       "      <td>0</td>\n",
       "      <td>expressing the sense of the house of represent...</td>\n",
       "    </tr>\n",
       "    <tr>\n",
       "      <th>10</th>\n",
       "      <td>11</td>\n",
       "      <td>0</td>\n",
       "      <td>0</td>\n",
       "      <td>0</td>\n",
       "      <td>1</td>\n",
       "      <td>0</td>\n",
       "      <td>0</td>\n",
       "      <td>supporting the role of the united states in pr...</td>\n",
       "    </tr>\n",
       "    <tr>\n",
       "      <th>11</th>\n",
       "      <td>12</td>\n",
       "      <td>0</td>\n",
       "      <td>0</td>\n",
       "      <td>1</td>\n",
       "      <td>0</td>\n",
       "      <td>0</td>\n",
       "      <td>0</td>\n",
       "      <td>to impose sanctions on foreign persons that ar...</td>\n",
       "    </tr>\n",
       "    <tr>\n",
       "      <th>12</th>\n",
       "      <td>13</td>\n",
       "      <td>0</td>\n",
       "      <td>0</td>\n",
       "      <td>1</td>\n",
       "      <td>0</td>\n",
       "      <td>0</td>\n",
       "      <td>0</td>\n",
       "      <td>to amend the hizballah international financing...</td>\n",
       "    </tr>\n",
       "    <tr>\n",
       "      <th>13</th>\n",
       "      <td>14</td>\n",
       "      <td>0</td>\n",
       "      <td>0</td>\n",
       "      <td>1</td>\n",
       "      <td>0</td>\n",
       "      <td>0</td>\n",
       "      <td>0</td>\n",
       "      <td>to require a study regarding security measures...</td>\n",
       "    </tr>\n",
       "    <tr>\n",
       "      <th>14</th>\n",
       "      <td>15</td>\n",
       "      <td>0</td>\n",
       "      <td>0</td>\n",
       "      <td>0</td>\n",
       "      <td>1</td>\n",
       "      <td>0</td>\n",
       "      <td>0</td>\n",
       "      <td>objecting to the conduct of the president of t...</td>\n",
       "    </tr>\n",
       "    <tr>\n",
       "      <th>15</th>\n",
       "      <td>16</td>\n",
       "      <td>0</td>\n",
       "      <td>0</td>\n",
       "      <td>1</td>\n",
       "      <td>0</td>\n",
       "      <td>0</td>\n",
       "      <td>0</td>\n",
       "      <td>to direct the secretary of state to develop a ...</td>\n",
       "    </tr>\n",
       "    <tr>\n",
       "      <th>16</th>\n",
       "      <td>17</td>\n",
       "      <td>0</td>\n",
       "      <td>0</td>\n",
       "      <td>1</td>\n",
       "      <td>0</td>\n",
       "      <td>0</td>\n",
       "      <td>0</td>\n",
       "      <td>to permit disabled law enforcement officers cu...</td>\n",
       "    </tr>\n",
       "    <tr>\n",
       "      <th>17</th>\n",
       "      <td>18</td>\n",
       "      <td>0</td>\n",
       "      <td>0</td>\n",
       "      <td>0</td>\n",
       "      <td>1</td>\n",
       "      <td>0</td>\n",
       "      <td>0</td>\n",
       "      <td>expressing the sense of the house of represent...</td>\n",
       "    </tr>\n",
       "    <tr>\n",
       "      <th>18</th>\n",
       "      <td>19</td>\n",
       "      <td>0</td>\n",
       "      <td>0</td>\n",
       "      <td>1</td>\n",
       "      <td>0</td>\n",
       "      <td>0</td>\n",
       "      <td>0</td>\n",
       "      <td>to provide drought relief through innovation i...</td>\n",
       "    </tr>\n",
       "    <tr>\n",
       "      <th>19</th>\n",
       "      <td>20</td>\n",
       "      <td>0</td>\n",
       "      <td>0</td>\n",
       "      <td>1</td>\n",
       "      <td>0</td>\n",
       "      <td>0</td>\n",
       "      <td>0</td>\n",
       "      <td>to repeal the revised annuity employee and fur...</td>\n",
       "    </tr>\n",
       "    <tr>\n",
       "      <th>20</th>\n",
       "      <td>21</td>\n",
       "      <td>0</td>\n",
       "      <td>0</td>\n",
       "      <td>0</td>\n",
       "      <td>1</td>\n",
       "      <td>0</td>\n",
       "      <td>0</td>\n",
       "      <td>urging the government of kenya and kenya's pol...</td>\n",
       "    </tr>\n",
       "    <tr>\n",
       "      <th>21</th>\n",
       "      <td>22</td>\n",
       "      <td>0</td>\n",
       "      <td>0</td>\n",
       "      <td>1</td>\n",
       "      <td>0</td>\n",
       "      <td>0</td>\n",
       "      <td>0</td>\n",
       "      <td>to prohibit the use of federal funds for the e...</td>\n",
       "    </tr>\n",
       "    <tr>\n",
       "      <th>22</th>\n",
       "      <td>23</td>\n",
       "      <td>0</td>\n",
       "      <td>0</td>\n",
       "      <td>0</td>\n",
       "      <td>1</td>\n",
       "      <td>0</td>\n",
       "      <td>0</td>\n",
       "      <td>honoring the life and legacy of liu xiaobo for...</td>\n",
       "    </tr>\n",
       "    <tr>\n",
       "      <th>23</th>\n",
       "      <td>25</td>\n",
       "      <td>0</td>\n",
       "      <td>0</td>\n",
       "      <td>1</td>\n",
       "      <td>0</td>\n",
       "      <td>0</td>\n",
       "      <td>0</td>\n",
       "      <td>to provide congressional review and to counter...</td>\n",
       "    </tr>\n",
       "    <tr>\n",
       "      <th>24</th>\n",
       "      <td>26</td>\n",
       "      <td>0</td>\n",
       "      <td>0</td>\n",
       "      <td>1</td>\n",
       "      <td>0</td>\n",
       "      <td>0</td>\n",
       "      <td>0</td>\n",
       "      <td>to prohibit the use of federal funds to establ...</td>\n",
       "    </tr>\n",
       "    <tr>\n",
       "      <th>25</th>\n",
       "      <td>27</td>\n",
       "      <td>0</td>\n",
       "      <td>0</td>\n",
       "      <td>0</td>\n",
       "      <td>1</td>\n",
       "      <td>0</td>\n",
       "      <td>0</td>\n",
       "      <td>expressing support for the designation of july...</td>\n",
       "    </tr>\n",
       "    <tr>\n",
       "      <th>26</th>\n",
       "      <td>28</td>\n",
       "      <td>0</td>\n",
       "      <td>0</td>\n",
       "      <td>0</td>\n",
       "      <td>1</td>\n",
       "      <td>0</td>\n",
       "      <td>0</td>\n",
       "      <td>condemning violence against religious minoriti...</td>\n",
       "    </tr>\n",
       "    <tr>\n",
       "      <th>27</th>\n",
       "      <td>29</td>\n",
       "      <td>0</td>\n",
       "      <td>0</td>\n",
       "      <td>0</td>\n",
       "      <td>1</td>\n",
       "      <td>0</td>\n",
       "      <td>0</td>\n",
       "      <td>disapproving of the united nations educational...</td>\n",
       "    </tr>\n",
       "    <tr>\n",
       "      <th>28</th>\n",
       "      <td>30</td>\n",
       "      <td>0</td>\n",
       "      <td>0</td>\n",
       "      <td>0</td>\n",
       "      <td>1</td>\n",
       "      <td>0</td>\n",
       "      <td>0</td>\n",
       "      <td>urging adherence to the ``one country two syst...</td>\n",
       "    </tr>\n",
       "    <tr>\n",
       "      <th>29</th>\n",
       "      <td>31</td>\n",
       "      <td>0</td>\n",
       "      <td>0</td>\n",
       "      <td>1</td>\n",
       "      <td>0</td>\n",
       "      <td>0</td>\n",
       "      <td>0</td>\n",
       "      <td>to amend the national and community service ac...</td>\n",
       "    </tr>\n",
       "    <tr>\n",
       "      <th>...</th>\n",
       "      <td>...</td>\n",
       "      <td>...</td>\n",
       "      <td>...</td>\n",
       "      <td>...</td>\n",
       "      <td>...</td>\n",
       "      <td>...</td>\n",
       "      <td>...</td>\n",
       "      <td>...</td>\n",
       "    </tr>\n",
       "    <tr>\n",
       "      <th>4320</th>\n",
       "      <td>597</td>\n",
       "      <td>0</td>\n",
       "      <td>0</td>\n",
       "      <td>0</td>\n",
       "      <td>1</td>\n",
       "      <td>0</td>\n",
       "      <td>0</td>\n",
       "      <td>honoring the life legacy and example of israel...</td>\n",
       "    </tr>\n",
       "    <tr>\n",
       "      <th>4321</th>\n",
       "      <td>1729</td>\n",
       "      <td>0</td>\n",
       "      <td>0</td>\n",
       "      <td>0</td>\n",
       "      <td>1</td>\n",
       "      <td>0</td>\n",
       "      <td>0</td>\n",
       "      <td>expressing concern for the well-being of journ...</td>\n",
       "    </tr>\n",
       "    <tr>\n",
       "      <th>4322</th>\n",
       "      <td>66</td>\n",
       "      <td>0</td>\n",
       "      <td>0</td>\n",
       "      <td>0</td>\n",
       "      <td>1</td>\n",
       "      <td>0</td>\n",
       "      <td>0</td>\n",
       "      <td>reaffirming the strategic partnership between ...</td>\n",
       "    </tr>\n",
       "    <tr>\n",
       "      <th>4323</th>\n",
       "      <td>1087</td>\n",
       "      <td>0</td>\n",
       "      <td>0</td>\n",
       "      <td>1</td>\n",
       "      <td>0</td>\n",
       "      <td>0</td>\n",
       "      <td>0</td>\n",
       "      <td>to support the independence sovereignty and te...</td>\n",
       "    </tr>\n",
       "    <tr>\n",
       "      <th>4324</th>\n",
       "      <td>1306</td>\n",
       "      <td>0</td>\n",
       "      <td>0</td>\n",
       "      <td>0</td>\n",
       "      <td>1</td>\n",
       "      <td>0</td>\n",
       "      <td>0</td>\n",
       "      <td>recognizing the falkland islands referendum in...</td>\n",
       "    </tr>\n",
       "    <tr>\n",
       "      <th>4325</th>\n",
       "      <td>131</td>\n",
       "      <td>0</td>\n",
       "      <td>0</td>\n",
       "      <td>0</td>\n",
       "      <td>1</td>\n",
       "      <td>0</td>\n",
       "      <td>0</td>\n",
       "      <td>expressing the sense of the house that more sh...</td>\n",
       "    </tr>\n",
       "    <tr>\n",
       "      <th>4326</th>\n",
       "      <td>2105</td>\n",
       "      <td>0</td>\n",
       "      <td>0</td>\n",
       "      <td>1</td>\n",
       "      <td>0</td>\n",
       "      <td>0</td>\n",
       "      <td>0</td>\n",
       "      <td>to amend the international religious freedom a...</td>\n",
       "    </tr>\n",
       "    <tr>\n",
       "      <th>4327</th>\n",
       "      <td>987</td>\n",
       "      <td>0</td>\n",
       "      <td>0</td>\n",
       "      <td>1</td>\n",
       "      <td>0</td>\n",
       "      <td>0</td>\n",
       "      <td>0</td>\n",
       "      <td>to authorize further assistance to israel for ...</td>\n",
       "    </tr>\n",
       "    <tr>\n",
       "      <th>4328</th>\n",
       "      <td>1817</td>\n",
       "      <td>0</td>\n",
       "      <td>0</td>\n",
       "      <td>0</td>\n",
       "      <td>1</td>\n",
       "      <td>0</td>\n",
       "      <td>0</td>\n",
       "      <td>condemning the people's republic of china for ...</td>\n",
       "    </tr>\n",
       "    <tr>\n",
       "      <th>4329</th>\n",
       "      <td>137</td>\n",
       "      <td>0</td>\n",
       "      <td>0</td>\n",
       "      <td>0</td>\n",
       "      <td>1</td>\n",
       "      <td>0</td>\n",
       "      <td>0</td>\n",
       "      <td>expressing concern and condemnation over the p...</td>\n",
       "    </tr>\n",
       "    <tr>\n",
       "      <th>4330</th>\n",
       "      <td>73</td>\n",
       "      <td>0</td>\n",
       "      <td>0</td>\n",
       "      <td>1</td>\n",
       "      <td>0</td>\n",
       "      <td>0</td>\n",
       "      <td>0</td>\n",
       "      <td>to authorized the establishment of a program f...</td>\n",
       "    </tr>\n",
       "    <tr>\n",
       "      <th>4331</th>\n",
       "      <td>2354</td>\n",
       "      <td>0</td>\n",
       "      <td>0</td>\n",
       "      <td>0</td>\n",
       "      <td>1</td>\n",
       "      <td>0</td>\n",
       "      <td>0</td>\n",
       "      <td>expressing support for the international olymp...</td>\n",
       "    </tr>\n",
       "    <tr>\n",
       "      <th>4332</th>\n",
       "      <td>1592</td>\n",
       "      <td>0</td>\n",
       "      <td>0</td>\n",
       "      <td>0</td>\n",
       "      <td>1</td>\n",
       "      <td>0</td>\n",
       "      <td>0</td>\n",
       "      <td>expressing condolences to the families of the ...</td>\n",
       "    </tr>\n",
       "    <tr>\n",
       "      <th>4333</th>\n",
       "      <td>1158</td>\n",
       "      <td>0</td>\n",
       "      <td>0</td>\n",
       "      <td>1</td>\n",
       "      <td>0</td>\n",
       "      <td>0</td>\n",
       "      <td>0</td>\n",
       "      <td>to authorize the secretary of state and the ad...</td>\n",
       "    </tr>\n",
       "    <tr>\n",
       "      <th>4334</th>\n",
       "      <td>2393</td>\n",
       "      <td>0</td>\n",
       "      <td>0</td>\n",
       "      <td>0</td>\n",
       "      <td>1</td>\n",
       "      <td>0</td>\n",
       "      <td>0</td>\n",
       "      <td>calling on the government of the socialist rep...</td>\n",
       "    </tr>\n",
       "    <tr>\n",
       "      <th>4335</th>\n",
       "      <td>24</td>\n",
       "      <td>0</td>\n",
       "      <td>0</td>\n",
       "      <td>0</td>\n",
       "      <td>1</td>\n",
       "      <td>0</td>\n",
       "      <td>0</td>\n",
       "      <td>honoring the life and legacy of liu xiaobo for...</td>\n",
       "    </tr>\n",
       "    <tr>\n",
       "      <th>4336</th>\n",
       "      <td>732</td>\n",
       "      <td>0</td>\n",
       "      <td>0</td>\n",
       "      <td>0</td>\n",
       "      <td>1</td>\n",
       "      <td>0</td>\n",
       "      <td>0</td>\n",
       "      <td>recognizing the importance of a continued comm...</td>\n",
       "    </tr>\n",
       "    <tr>\n",
       "      <th>4337</th>\n",
       "      <td>1319</td>\n",
       "      <td>0</td>\n",
       "      <td>0</td>\n",
       "      <td>0</td>\n",
       "      <td>1</td>\n",
       "      <td>0</td>\n",
       "      <td>0</td>\n",
       "      <td>calling for the release of united states citiz...</td>\n",
       "    </tr>\n",
       "    <tr>\n",
       "      <th>4338</th>\n",
       "      <td>1660</td>\n",
       "      <td>0</td>\n",
       "      <td>0</td>\n",
       "      <td>0</td>\n",
       "      <td>1</td>\n",
       "      <td>0</td>\n",
       "      <td>0</td>\n",
       "      <td>welcoming to the united states and to washingt...</td>\n",
       "    </tr>\n",
       "    <tr>\n",
       "      <th>4339</th>\n",
       "      <td>2446</td>\n",
       "      <td>0</td>\n",
       "      <td>0</td>\n",
       "      <td>0</td>\n",
       "      <td>1</td>\n",
       "      <td>0</td>\n",
       "      <td>0</td>\n",
       "      <td>calling on the new government of egypt to hono...</td>\n",
       "    </tr>\n",
       "    <tr>\n",
       "      <th>4340</th>\n",
       "      <td>396</td>\n",
       "      <td>0</td>\n",
       "      <td>0</td>\n",
       "      <td>1</td>\n",
       "      <td>0</td>\n",
       "      <td>0</td>\n",
       "      <td>0</td>\n",
       "      <td>to provide for the prohibition on cash payment...</td>\n",
       "    </tr>\n",
       "    <tr>\n",
       "      <th>4341</th>\n",
       "      <td>1864</td>\n",
       "      <td>0</td>\n",
       "      <td>0</td>\n",
       "      <td>1</td>\n",
       "      <td>0</td>\n",
       "      <td>0</td>\n",
       "      <td>0</td>\n",
       "      <td>to increase the united states financial and pr...</td>\n",
       "    </tr>\n",
       "    <tr>\n",
       "      <th>4342</th>\n",
       "      <td>371</td>\n",
       "      <td>0</td>\n",
       "      <td>0</td>\n",
       "      <td>1</td>\n",
       "      <td>0</td>\n",
       "      <td>0</td>\n",
       "      <td>0</td>\n",
       "      <td>to prevent further advances in north korea's n...</td>\n",
       "    </tr>\n",
       "    <tr>\n",
       "      <th>4343</th>\n",
       "      <td>1471</td>\n",
       "      <td>1</td>\n",
       "      <td>0</td>\n",
       "      <td>0</td>\n",
       "      <td>0</td>\n",
       "      <td>0</td>\n",
       "      <td>0</td>\n",
       "      <td>recognizing the st anniversary of the independ...</td>\n",
       "    </tr>\n",
       "    <tr>\n",
       "      <th>4344</th>\n",
       "      <td>1425</td>\n",
       "      <td>1</td>\n",
       "      <td>0</td>\n",
       "      <td>0</td>\n",
       "      <td>0</td>\n",
       "      <td>0</td>\n",
       "      <td>0</td>\n",
       "      <td>honoring the service and sacrifice of members ...</td>\n",
       "    </tr>\n",
       "    <tr>\n",
       "      <th>4345</th>\n",
       "      <td>1313</td>\n",
       "      <td>0</td>\n",
       "      <td>0</td>\n",
       "      <td>1</td>\n",
       "      <td>0</td>\n",
       "      <td>0</td>\n",
       "      <td>0</td>\n",
       "      <td>to ensure that the courts of the united states...</td>\n",
       "    </tr>\n",
       "    <tr>\n",
       "      <th>4346</th>\n",
       "      <td>1450</td>\n",
       "      <td>1</td>\n",
       "      <td>0</td>\n",
       "      <td>0</td>\n",
       "      <td>0</td>\n",
       "      <td>0</td>\n",
       "      <td>0</td>\n",
       "      <td>expressing the sense of congress on the occasi...</td>\n",
       "    </tr>\n",
       "    <tr>\n",
       "      <th>4347</th>\n",
       "      <td>1053</td>\n",
       "      <td>0</td>\n",
       "      <td>0</td>\n",
       "      <td>1</td>\n",
       "      <td>0</td>\n",
       "      <td>0</td>\n",
       "      <td>0</td>\n",
       "      <td>to establish the western hemisphere drug polic...</td>\n",
       "    </tr>\n",
       "    <tr>\n",
       "      <th>4348</th>\n",
       "      <td>2390</td>\n",
       "      <td>0</td>\n",
       "      <td>0</td>\n",
       "      <td>0</td>\n",
       "      <td>1</td>\n",
       "      <td>0</td>\n",
       "      <td>0</td>\n",
       "      <td>calling upon the government of turkey to facil...</td>\n",
       "    </tr>\n",
       "    <tr>\n",
       "      <th>4349</th>\n",
       "      <td>758</td>\n",
       "      <td>0</td>\n",
       "      <td>0</td>\n",
       "      <td>0</td>\n",
       "      <td>1</td>\n",
       "      <td>0</td>\n",
       "      <td>0</td>\n",
       "      <td>condemning the murder of boris nemtsov offerin...</td>\n",
       "    </tr>\n",
       "  </tbody>\n",
       "</table>\n",
       "<p>4350 rows × 8 columns</p>\n",
       "</div>"
      ],
      "text/plain": [
       "      index  hconres  hjres  1hr  hres  s  sconres  \\\n",
       "0         0        0      0    0     1  0        0   \n",
       "1         1        0      0    0     1  0        0   \n",
       "2         2        0      0    1     0  0        0   \n",
       "3         3        0      0    1     0  0        0   \n",
       "4         4        0      0    1     0  0        0   \n",
       "5         6        0      0    1     0  0        0   \n",
       "6         7        0      0    1     0  0        0   \n",
       "7         8        0      0    0     1  0        0   \n",
       "8         9        0      0    1     0  0        0   \n",
       "9        10        0      0    0     1  0        0   \n",
       "10       11        0      0    0     1  0        0   \n",
       "11       12        0      0    1     0  0        0   \n",
       "12       13        0      0    1     0  0        0   \n",
       "13       14        0      0    1     0  0        0   \n",
       "14       15        0      0    0     1  0        0   \n",
       "15       16        0      0    1     0  0        0   \n",
       "16       17        0      0    1     0  0        0   \n",
       "17       18        0      0    0     1  0        0   \n",
       "18       19        0      0    1     0  0        0   \n",
       "19       20        0      0    1     0  0        0   \n",
       "20       21        0      0    0     1  0        0   \n",
       "21       22        0      0    1     0  0        0   \n",
       "22       23        0      0    0     1  0        0   \n",
       "23       25        0      0    1     0  0        0   \n",
       "24       26        0      0    1     0  0        0   \n",
       "25       27        0      0    0     1  0        0   \n",
       "26       28        0      0    0     1  0        0   \n",
       "27       29        0      0    0     1  0        0   \n",
       "28       30        0      0    0     1  0        0   \n",
       "29       31        0      0    1     0  0        0   \n",
       "...     ...      ...    ...  ...   ... ..      ...   \n",
       "4320    597        0      0    0     1  0        0   \n",
       "4321   1729        0      0    0     1  0        0   \n",
       "4322     66        0      0    0     1  0        0   \n",
       "4323   1087        0      0    1     0  0        0   \n",
       "4324   1306        0      0    0     1  0        0   \n",
       "4325    131        0      0    0     1  0        0   \n",
       "4326   2105        0      0    1     0  0        0   \n",
       "4327    987        0      0    1     0  0        0   \n",
       "4328   1817        0      0    0     1  0        0   \n",
       "4329    137        0      0    0     1  0        0   \n",
       "4330     73        0      0    1     0  0        0   \n",
       "4331   2354        0      0    0     1  0        0   \n",
       "4332   1592        0      0    0     1  0        0   \n",
       "4333   1158        0      0    1     0  0        0   \n",
       "4334   2393        0      0    0     1  0        0   \n",
       "4335     24        0      0    0     1  0        0   \n",
       "4336    732        0      0    0     1  0        0   \n",
       "4337   1319        0      0    0     1  0        0   \n",
       "4338   1660        0      0    0     1  0        0   \n",
       "4339   2446        0      0    0     1  0        0   \n",
       "4340    396        0      0    1     0  0        0   \n",
       "4341   1864        0      0    1     0  0        0   \n",
       "4342    371        0      0    1     0  0        0   \n",
       "4343   1471        1      0    0     0  0        0   \n",
       "4344   1425        1      0    0     0  0        0   \n",
       "4345   1313        0      0    1     0  0        0   \n",
       "4346   1450        1      0    0     0  0        0   \n",
       "4347   1053        0      0    1     0  0        0   \n",
       "4348   2390        0      0    0     1  0        0   \n",
       "4349    758        0      0    0     1  0        0   \n",
       "\n",
       "                                               billtext  \n",
       "0     a resolution affirming and recognizing the khm...  \n",
       "1     calling on the government of iraq to compensat...  \n",
       "2     to make certain improvements to the security o...  \n",
       "3     to authorize the secretary of state to establi...  \n",
       "4     to impose sanctions against hamas for gross vi...  \n",
       "5     to prohibit the use of funds to return certain...  \n",
       "6     to enhance the transparency and accelerate the...  \n",
       "7     recognizing that international education and e...  \n",
       "8     s by other governments  a in generalnot later ...  \n",
       "9     expressing the sense of the house of represent...  \n",
       "10    supporting the role of the united states in pr...  \n",
       "11    to impose sanctions on foreign persons that ar...  \n",
       "12    to amend the hizballah international financing...  \n",
       "13    to require a study regarding security measures...  \n",
       "14    objecting to the conduct of the president of t...  \n",
       "15    to direct the secretary of state to develop a ...  \n",
       "16    to permit disabled law enforcement officers cu...  \n",
       "17    expressing the sense of the house of represent...  \n",
       "18    to provide drought relief through innovation i...  \n",
       "19    to repeal the revised annuity employee and fur...  \n",
       "20    urging the government of kenya and kenya's pol...  \n",
       "21    to prohibit the use of federal funds for the e...  \n",
       "22    honoring the life and legacy of liu xiaobo for...  \n",
       "23    to provide congressional review and to counter...  \n",
       "24    to prohibit the use of federal funds to establ...  \n",
       "25    expressing support for the designation of july...  \n",
       "26    condemning violence against religious minoriti...  \n",
       "27    disapproving of the united nations educational...  \n",
       "28    urging adherence to the ``one country two syst...  \n",
       "29    to amend the national and community service ac...  \n",
       "...                                                 ...  \n",
       "4320  honoring the life legacy and example of israel...  \n",
       "4321  expressing concern for the well-being of journ...  \n",
       "4322  reaffirming the strategic partnership between ...  \n",
       "4323  to support the independence sovereignty and te...  \n",
       "4324  recognizing the falkland islands referendum in...  \n",
       "4325  expressing the sense of the house that more sh...  \n",
       "4326  to amend the international religious freedom a...  \n",
       "4327  to authorize further assistance to israel for ...  \n",
       "4328  condemning the people's republic of china for ...  \n",
       "4329  expressing concern and condemnation over the p...  \n",
       "4330  to authorized the establishment of a program f...  \n",
       "4331  expressing support for the international olymp...  \n",
       "4332  expressing condolences to the families of the ...  \n",
       "4333  to authorize the secretary of state and the ad...  \n",
       "4334  calling on the government of the socialist rep...  \n",
       "4335  honoring the life and legacy of liu xiaobo for...  \n",
       "4336  recognizing the importance of a continued comm...  \n",
       "4337  calling for the release of united states citiz...  \n",
       "4338  welcoming to the united states and to washingt...  \n",
       "4339  calling on the new government of egypt to hono...  \n",
       "4340  to provide for the prohibition on cash payment...  \n",
       "4341  to increase the united states financial and pr...  \n",
       "4342  to prevent further advances in north korea's n...  \n",
       "4343  recognizing the st anniversary of the independ...  \n",
       "4344  honoring the service and sacrifice of members ...  \n",
       "4345  to ensure that the courts of the united states...  \n",
       "4346  expressing the sense of congress on the occasi...  \n",
       "4347  to establish the western hemisphere drug polic...  \n",
       "4348  calling upon the government of turkey to facil...  \n",
       "4349  condemning the murder of boris nemtsov offerin...  \n",
       "\n",
       "[4350 rows x 8 columns]"
      ]
     },
     "execution_count": 23,
     "metadata": {},
     "output_type": "execute_result"
    }
   ],
   "source": [
    "# As before, we prepare the X on which to train our models.\n",
    "\n",
    "xprep = df_upsampled.copy()\n",
    "xprep.drop(['irlco', 'Unnamed: 0', 'Unnamed: 0.1'], axis=1, inplace=True)\n",
    "xprep.columns.values[2] = '1hr'\n",
    "xprep.reset_index()"
   ]
  },
  {
   "cell_type": "code",
   "execution_count": 24,
   "metadata": {
    "collapsed": true
   },
   "outputs": [],
   "source": [
    "## Lemmatizing the bill text to improve model performance\n",
    "\n",
    "lemmatizer = WordNetLemmatizer()\n",
    "\n",
    "tokenizer = RegexpTokenizer(r'\\w+')\n",
    "\n",
    "bill_tokens= [tokenizer.tokenize(i) for i in xprep.billtext]\n",
    "\n",
    "new_list = [\" \".join([lemmatizer.lemmatize(word) for word in x]) for x in bill_tokens]\n",
    "\n",
    "# I'm setting up the column names I will use in the next cell to replace the bill text with lemmatized version\n",
    "cols = ['hconres', 'hjres', '1hr', 'hres', 's', 'sconres', 'billtext', 'lemms']\n",
    "cols2 = ['hconres', 'hjres', '1hr', 'hres', 's', 'sconres', 'billtext']"
   ]
  },
  {
   "cell_type": "code",
   "execution_count": 25,
   "metadata": {
    "collapsed": true,
    "scrolled": true
   },
   "outputs": [],
   "source": [
    "# We again replace the bill text with the lemmatized version.\n",
    "\n",
    "lemms = pd.DataFrame(new_list)\n",
    "\n",
    "l1=xprep.values.tolist()\n",
    "l2=lemms.values.tolist()\n",
    "for i in range(len(l1)):\n",
    "    l1[i].extend(l2[i])\n",
    "\n",
    "xprep =pd.DataFrame(l1,columns=xprep.columns.tolist()+lemms.columns.tolist())\n",
    "\n",
    "# And use the columns name to finish up the replacement of bill text\n",
    "xprep.columns = cols\n",
    "xprep.drop('billtext', axis=1, inplace=True)\n",
    "xprep.columns = cols2"
   ]
  },
  {
   "cell_type": "code",
   "execution_count": 26,
   "metadata": {},
   "outputs": [
    {
     "data": {
      "text/plain": [
       "(3045, 7)"
      ]
     },
     "execution_count": 26,
     "metadata": {},
     "output_type": "execute_result"
    }
   ],
   "source": [
    "# We assign simple variables to my X and y and create a train test split to use for my model creation\n",
    "\n",
    "y = df_upsampled.irlco.astype(int)\n",
    "X= xprep\n",
    "X_train, X_test, y_train, y_test = train_test_split(X, y, test_size=.3, stratify= y, random_state=66)\n",
    "X_train.shape"
   ]
  },
  {
   "cell_type": "code",
   "execution_count": 27,
   "metadata": {
    "scrolled": true
   },
   "outputs": [
    {
     "name": "stdout",
     "output_type": "stream",
     "text": [
      "(3045, 100006)\n"
     ]
    },
    {
     "data": {
      "text/html": [
       "<div>\n",
       "<style>\n",
       "    .dataframe thead tr:only-child th {\n",
       "        text-align: right;\n",
       "    }\n",
       "\n",
       "    .dataframe thead th {\n",
       "        text-align: left;\n",
       "    }\n",
       "\n",
       "    .dataframe tbody tr th {\n",
       "        vertical-align: top;\n",
       "    }\n",
       "</style>\n",
       "<table border=\"1\" class=\"dataframe\">\n",
       "  <thead>\n",
       "    <tr style=\"text-align: right;\">\n",
       "      <th></th>\n",
       "      <th>hconres</th>\n",
       "      <th>hjres</th>\n",
       "      <th>1hr</th>\n",
       "      <th>hres</th>\n",
       "      <th>s</th>\n",
       "      <th>sconres</th>\n",
       "      <th>aamendments</th>\n",
       "      <th>aav</th>\n",
       "      <th>aba</th>\n",
       "      <th>ababa</th>\n",
       "      <th>...</th>\n",
       "      <th>zone vietnam</th>\n",
       "      <th>zone vietnamwhereas</th>\n",
       "      <th>zone zone</th>\n",
       "      <th>zoneswhereas</th>\n",
       "      <th>zoneswhereas government</th>\n",
       "      <th>zoning</th>\n",
       "      <th>zoological</th>\n",
       "      <th>zoroastrian</th>\n",
       "      <th>zuoren</th>\n",
       "      <th>zuoren engaging</th>\n",
       "    </tr>\n",
       "  </thead>\n",
       "  <tbody>\n",
       "    <tr>\n",
       "      <th>0</th>\n",
       "      <td>0</td>\n",
       "      <td>0</td>\n",
       "      <td>0</td>\n",
       "      <td>1</td>\n",
       "      <td>0</td>\n",
       "      <td>0</td>\n",
       "      <td>0</td>\n",
       "      <td>0</td>\n",
       "      <td>0</td>\n",
       "      <td>0</td>\n",
       "      <td>...</td>\n",
       "      <td>0</td>\n",
       "      <td>0</td>\n",
       "      <td>0</td>\n",
       "      <td>0</td>\n",
       "      <td>0</td>\n",
       "      <td>0</td>\n",
       "      <td>0</td>\n",
       "      <td>0</td>\n",
       "      <td>0</td>\n",
       "      <td>0</td>\n",
       "    </tr>\n",
       "    <tr>\n",
       "      <th>1</th>\n",
       "      <td>1</td>\n",
       "      <td>0</td>\n",
       "      <td>0</td>\n",
       "      <td>0</td>\n",
       "      <td>0</td>\n",
       "      <td>0</td>\n",
       "      <td>0</td>\n",
       "      <td>0</td>\n",
       "      <td>0</td>\n",
       "      <td>0</td>\n",
       "      <td>...</td>\n",
       "      <td>0</td>\n",
       "      <td>0</td>\n",
       "      <td>0</td>\n",
       "      <td>0</td>\n",
       "      <td>0</td>\n",
       "      <td>0</td>\n",
       "      <td>0</td>\n",
       "      <td>0</td>\n",
       "      <td>0</td>\n",
       "      <td>0</td>\n",
       "    </tr>\n",
       "  </tbody>\n",
       "</table>\n",
       "<p>2 rows × 100006 columns</p>\n",
       "</div>"
      ],
      "text/plain": [
       "   hconres  hjres  1hr  hres  s  sconres  aamendments  aav  aba  ababa  \\\n",
       "0        0      0    0     1  0        0            0    0    0      0   \n",
       "1        1      0    0     0  0        0            0    0    0      0   \n",
       "\n",
       "        ...         zone vietnam  zone vietnamwhereas  zone zone  \\\n",
       "0       ...                    0                    0          0   \n",
       "1       ...                    0                    0          0   \n",
       "\n",
       "   zoneswhereas  zoneswhereas government  zoning  zoological  zoroastrian  \\\n",
       "0             0                        0       0           0            0   \n",
       "1             0                        0       0           0            0   \n",
       "\n",
       "   zuoren  zuoren engaging  \n",
       "0       0                0  \n",
       "1       0                0  \n",
       "\n",
       "[2 rows x 100006 columns]"
      ]
     },
     "execution_count": 27,
     "metadata": {},
     "output_type": "execute_result"
    }
   ],
   "source": [
    "#Vectorizing the Lemmatized bill text\n",
    "\n",
    "cvec = CountVectorizer(stop_words=stops, ngram_range=(1,2), max_features=100000)\n",
    "\n",
    "vectorizers = cvec.fit_transform(X_train.billtext)\n",
    "\n",
    "df_vec = pd.DataFrame(vectorizers.todense(), columns = cvec.get_feature_names())\n",
    "l1=X_train.values.tolist()\n",
    "l2=df_vec.values.tolist()\n",
    "for i in range(len(l1)):\n",
    "    l1[i].extend(l2[i])\n",
    "\n",
    "X_trainfinal=pd.DataFrame(l1,columns=X_train.columns.tolist()+df_vec.columns.tolist())\n",
    "\n",
    "X_trainfinal.drop('billtext', axis=1, inplace=True)\n",
    "print X_trainfinal.shape\n",
    "X_trainfinal.head(2)"
   ]
  },
  {
   "cell_type": "code",
   "execution_count": 28,
   "metadata": {
    "collapsed": true
   },
   "outputs": [],
   "source": [
    "# Controlling for a common coding error when you try to fit a model that also\n",
    "# has a variable \"fit\"\n",
    "\n",
    "X_trainfinal = X_trainfinal.rename(columns={'fit': 'fit_feat'})"
   ]
  },
  {
   "cell_type": "code",
   "execution_count": 29,
   "metadata": {
    "scrolled": true
   },
   "outputs": [
    {
     "name": "stdout",
     "output_type": "stream",
     "text": [
      "(1305, 100007)\n"
     ]
    }
   ],
   "source": [
    "# Transforming the test set using the count vectorizing from 2 cells ago\n",
    "\n",
    "vec_test = cvec.transform(X_test.billtext)\n",
    "vec_test = pd.DataFrame(vec_test.todense(), columns=cvec.get_feature_names())\n",
    "\n",
    "l1=X_test.values.tolist()\n",
    "l2=vec_test.values.tolist()\n",
    "for i in range(len(l1)):\n",
    "    l1[i].extend(l2[i])\n",
    "\n",
    "X_testfinal=pd.DataFrame(l1,columns=X_test.columns.tolist()+vec_test.columns.tolist())\n",
    "print X_testfinal.shape\n",
    "X_testfinal.drop('billtext', axis=1, inplace=True)\n",
    "\n"
   ]
  },
  {
   "cell_type": "code",
   "execution_count": 30,
   "metadata": {
    "collapsed": true
   },
   "outputs": [],
   "source": [
    "# See similar entry above\n",
    "\n",
    "X_testfinal = X_testfinal.rename(columns={'fit': 'fit_feat'})"
   ]
  },
  {
   "cell_type": "code",
   "execution_count": 31,
   "metadata": {},
   "outputs": [
    {
     "name": "stdout",
     "output_type": "stream",
     "text": [
      "(4350, 100006) (4350,)\n"
     ]
    }
   ],
   "source": [
    "# Since data has been vectorized and transformed, I have to rejoin them in\n",
    "# order to use them as your X and Y in your cross validation scoring.\n",
    "\n",
    "tempX = pd.concat([X_trainfinal, X_testfinal])\n",
    "tempy = pd.concat([y_train, y_test])\n",
    "print tempX.shape, tempy.shape"
   ]
  },
  {
   "cell_type": "code",
   "execution_count": 32,
   "metadata": {
    "collapsed": true
   },
   "outputs": [],
   "source": [
    "# TFIDF vectorization to check model alternatives in the model building phase\n",
    "# Also, their corresponding transformation for test set\n",
    "tfidf= TfidfVectorizer(stop_words=stops, ngram_range=(1,2), max_features=100000)\n",
    "tfvector = tfidf.fit_transform(X_train.billtext)\n",
    "\n",
    "df_tfvec = pd.DataFrame(tfvector.todense())\n",
    "l1=X_train.values.tolist()\n",
    "l2=df_tfvec.values.tolist()\n",
    "for i in range(len(l1)):\n",
    "    l1[i].extend(l2[i])\n",
    "\n",
    "X_trainfinaltf =pd.DataFrame(l1,columns=X_train.columns.tolist()+df_tfvec.columns.tolist())\n",
    "X_trainfinaltf.drop('billtext', axis=1, inplace=True)\n",
    "\n",
    "tfvec_test = tfidf.transform(X_test.billtext)\n",
    "df_tftest = pd.DataFrame(tfvec_test.todense())\n",
    "\n",
    "l1=X_test.values.tolist()\n",
    "l2=df_tftest.values.tolist()\n",
    "for i in range(len(l1)):\n",
    "    l1[i].extend(l2[i])\n",
    "\n",
    "X_testfinaltf =pd.DataFrame(l1,columns=X_test.columns.tolist()+df_tftest.columns.tolist())\n",
    "X_testfinaltf.drop('billtext', axis=1, inplace=True)\n",
    "\n"
   ]
  },
  {
   "cell_type": "code",
   "execution_count": 33,
   "metadata": {},
   "outputs": [
    {
     "name": "stdout",
     "output_type": "stream",
     "text": [
      "(4350, 100006)\n"
     ]
    }
   ],
   "source": [
    "# Creating a X for when the model being analyzed is TF-IDF\n",
    "\n",
    "tempXtf = pd.concat([X_trainfinaltf, X_testfinaltf])\n",
    "print tempXtf.shape"
   ]
  },
  {
   "cell_type": "code",
   "execution_count": 34,
   "metadata": {
    "collapsed": true
   },
   "outputs": [],
   "source": [
    "# Fixing for the aforementioned problem with variable named \"fit\"\n",
    "\n",
    "tempXxgb = tempX.copy()\n",
    "tempXxgb = tempXxgb.rename(columns={'fit': 'fit_feat'})"
   ]
  },
  {
   "cell_type": "markdown",
   "metadata": {},
   "source": [
    "## Building the models"
   ]
  },
  {
   "cell_type": "markdown",
   "metadata": {},
   "source": [
    "Below, you will see my process in building several different kinds of models. Though you see many, I tried others whose performance and aptitude for the task were less useful, but I discarded them in favor of these better options."
   ]
  },
  {
   "cell_type": "markdown",
   "metadata": {},
   "source": [
    "### Logistic Regression"
   ]
  },
  {
   "cell_type": "code",
   "execution_count": 33,
   "metadata": {},
   "outputs": [
    {
     "data": {
      "text/plain": [
       "0.8413793103448276"
      ]
     },
     "execution_count": 33,
     "metadata": {},
     "output_type": "execute_result"
    }
   ],
   "source": [
    "from sklearn.linear_model import LogisticRegression\n",
    "\n",
    "pipeline = Pipeline([\n",
    "    ('tfidf', TfidfTransformer()),\n",
    "    ('lr', LogisticRegression(class_weight='balanced'))\n",
    "]) \n",
    "pipeline.fit(X_trainfinal, y_train)\n",
    "\n",
    "pipeline.score(X_testfinal, y_test)"
   ]
  },
  {
   "cell_type": "code",
   "execution_count": 34,
   "metadata": {
    "scrolled": false
   },
   "outputs": [
    {
     "name": "stdout",
     "output_type": "stream",
     "text": [
      "             precision    recall  f1-score   support\n",
      "\n",
      "          0       0.79      0.93      0.86       553\n",
      "          1       0.94      0.82      0.88       752\n",
      "\n",
      "avg / total       0.88      0.87      0.87      1305\n",
      "\n",
      "[[516 137]\n",
      " [ 37 615]]\n",
      "cross val score accuracy :0.856551724138\n",
      "roc_auc score :0.886603567182\n",
      "recall score :0.91724137931\n"
     ]
    }
   ],
   "source": [
    "#Logistic Regression with tdidf results and cross validation. Solid scores,\n",
    "# but remember this has been upsampled\n",
    "\n",
    "pred = pipeline.predict(X_testfinaltf)\n",
    "print classification_report(pred, y_test)\n",
    "print confusion_matrix(y_test, pred)\n",
    "print \"cross val score accuracy :\"+str(sum(cross_val_score(pipeline, tempXtf, tempy))/3)\n",
    "print 'roc_auc score :'+str(sum(cross_val_score(pipeline, tempXtf, tempy, scoring='roc_auc'))/3)\n",
    "print 'recall score :'+str(sum(cross_val_score(pipeline, tempXtf, tempy, scoring='recall'))/3)"
   ]
  },
  {
   "cell_type": "code",
   "execution_count": 35,
   "metadata": {
    "collapsed": true
   },
   "outputs": [],
   "source": [
    "# Saving the model for use in future legislation\n",
    "\n",
    "logregmodeltf = 'logregmodeltf.sav'\n",
    "pickle.dump(pipeline, open(logregmodeltf, 'wb'))"
   ]
  },
  {
   "cell_type": "code",
   "execution_count": 43,
   "metadata": {},
   "outputs": [
    {
     "data": {
      "text/plain": [
       "0.89501915708812263"
      ]
     },
     "execution_count": 43,
     "metadata": {},
     "output_type": "execute_result"
    }
   ],
   "source": [
    "pipeline2 = Pipeline([\n",
    "    ('lr', LogisticRegression())]) \n",
    "\n",
    "pipeline2.fit(X_trainfinal, y_train)\n",
    "\n",
    "pipeline2.score(X_testfinal, y_test)"
   ]
  },
  {
   "cell_type": "code",
   "execution_count": 44,
   "metadata": {
    "scrolled": true
   },
   "outputs": [
    {
     "name": "stdout",
     "output_type": "stream",
     "text": [
      "             precision    recall  f1-score   support\n",
      "\n",
      "          0       0.81      0.98      0.89       540\n",
      "          1       0.98      0.84      0.90       765\n",
      "\n",
      "avg / total       0.91      0.90      0.90      1305\n",
      "\n",
      "[[528 125]\n",
      " [ 12 640]]\n",
      "cross val score accuracy :0.891954022989\n",
      "roc_auc score :0.861916448672\n",
      "recall score :0.982528735632\n"
     ]
    }
   ],
   "source": [
    "# Logistic Regression w/o TFIDF results and cross validation. slightly better score.\n",
    "\n",
    "pred = pipeline2.predict(X_testfinal)\n",
    "print classification_report(pred, y_test)\n",
    "print confusion_matrix(y_test, pred)\n",
    "print \"cross val score accuracy :\"+str(sum(cross_val_score(pipeline2, tempXxgb, tempy))/3)\n",
    "print 'roc_auc score :'+str(sum(cross_val_score(pipeline2, tempXxgb, tempy, scoring='roc_auc'))/3)\n",
    "print 'recall score :'+str(sum(cross_val_score(pipeline2, tempXxgb, tempy, scoring='recall'))/3)"
   ]
  },
  {
   "cell_type": "code",
   "execution_count": 50,
   "metadata": {
    "collapsed": true
   },
   "outputs": [],
   "source": [
    "# Saving the model for use in future legislation\n",
    "\n",
    "logregmodel = 'logregmodel.sav'\n",
    "pickle.dump(pipeline, open(logregmodel, 'wb'))"
   ]
  },
  {
   "cell_type": "markdown",
   "metadata": {},
   "source": [
    "### XGBoost"
   ]
  },
  {
   "cell_type": "code",
   "execution_count": 45,
   "metadata": {
    "collapsed": true
   },
   "outputs": [],
   "source": [
    "# Correcting an issue of two variables called the same.\n",
    "\n",
    "col = list(X_trainfinal.columns)\n",
    "col[2]= '1hr'\n",
    "X_trainfinal.columns = col\n"
   ]
  },
  {
   "cell_type": "code",
   "execution_count": 46,
   "metadata": {
    "collapsed": true
   },
   "outputs": [],
   "source": [
    "# And on the test set.\n",
    "\n",
    "col = list(X_testfinal.columns)\n",
    "col[2]= '1hr'\n",
    "X_testfinal.columns = col\n"
   ]
  },
  {
   "cell_type": "code",
   "execution_count": 47,
   "metadata": {
    "scrolled": true
   },
   "outputs": [
    {
     "name": "stdout",
     "output_type": "stream",
     "text": [
      "Accuracy: 90.42%\n"
     ]
    }
   ],
   "source": [
    "# Instatiate XGBoost classifier and set it to predict our test set. Finally,\n",
    "# We check the accuracy\n",
    "\n",
    "\n",
    "\n",
    "xgboost = XGBClassifier(max_depth=10)\n",
    "xgboost.fit(X_trainfinal, y_train)\n",
    "# make predictions for test data\n",
    "y_pred = xgboost.predict(X_testfinal)\n",
    "predictions = [round(value) for value in y_pred]\n",
    "# evaluate predictions\n",
    "accuracy = accuracy_score(y_test, predictions)\n",
    "print(\"Accuracy: %.2f%%\" % (accuracy * 100.0))"
   ]
  },
  {
   "cell_type": "code",
   "execution_count": 48,
   "metadata": {
    "scrolled": true
   },
   "outputs": [
    {
     "name": "stdout",
     "output_type": "stream",
     "text": [
      "             precision    recall  f1-score   support\n",
      "\n",
      "          0       0.84      0.97      0.90       564\n",
      "          1       0.97      0.86      0.91       741\n",
      "\n",
      "avg / total       0.91      0.90      0.90      1305\n",
      "\n",
      "[[546 107]\n",
      " [ 18 634]]\n",
      "cross val score accuracy :0.889195402299\n",
      "roc_auc score :0.888492429647\n",
      "recall score :0.967356321839\n"
     ]
    }
   ],
   "source": [
    "\n",
    "pred = xgboost.predict(X_testfinal)\n",
    "print classification_report(pred, y_test)\n",
    "print confusion_matrix(y_test, pred)\n",
    "print \"cross val score accuracy :\"+str(sum(cross_val_score(xgboost, tempXxgb, tempy))/3)\n",
    "print 'roc_auc score :'+str(sum(cross_val_score(xgboost, tempXxgb, tempy, scoring='roc_auc'))/3)\n",
    "print 'recall score :'+str(sum(cross_val_score(xgboost, tempXxgb, tempy, scoring='recall'))/3)"
   ]
  },
  {
   "cell_type": "code",
   "execution_count": 49,
   "metadata": {
    "collapsed": true
   },
   "outputs": [],
   "source": [
    "# Saving model to use in future legislation.\n",
    "\n",
    "xgboostmodel = 'xgboostmodel.sav'\n",
    "pickle.dump(xgboost, open(xgboostmodel, 'wb'))"
   ]
  },
  {
   "cell_type": "markdown",
   "metadata": {},
   "source": [
    "### Random Forest"
   ]
  },
  {
   "cell_type": "code",
   "execution_count": 16,
   "metadata": {
    "collapsed": true,
    "scrolled": true
   },
   "outputs": [],
   "source": [
    "# Considering the amount of parameters you can adjust in Random Forect, I \n",
    "# concluded the best way would be to grid search \n",
    "\n",
    "estimators = range(1, 15)\n",
    "param_grid = dict(max_depth = estimators)\n",
    "\n",
    "dt = RandomForestClassifier()\n",
    "grid = GridSearchCV(dt, param_grid, scoring='roc_auc')\n"
   ]
  },
  {
   "cell_type": "code",
   "execution_count": 40,
   "metadata": {
    "collapsed": true,
    "scrolled": true
   },
   "outputs": [],
   "source": [
    "X_trainfinaltemp= X_trainfinal.copy()\n",
    "X_trainfinaltemp = X_trainfinaltemp.rename(columns={'fit': 'fit_feat'})"
   ]
  },
  {
   "cell_type": "code",
   "execution_count": 41,
   "metadata": {
    "collapsed": true
   },
   "outputs": [],
   "source": [
    "X_testfinaltemp = X_testfinal.copy()\n",
    "X_testfinaltemp = X_testfinaltemp.rename(columns={'fit': 'fit_feat'})"
   ]
  },
  {
   "cell_type": "code",
   "execution_count": 44,
   "metadata": {},
   "outputs": [
    {
     "data": {
      "text/plain": [
       "GridSearchCV(cv=None, error_score='raise',\n",
       "       estimator=RandomForestClassifier(bootstrap=True, class_weight='balanced',\n",
       "            criterion='gini', max_depth=None, max_features='auto',\n",
       "            max_leaf_nodes=None, min_impurity_split=1e-07,\n",
       "            min_samples_leaf=1, min_samples_split=2,\n",
       "            min_weight_fraction_leaf=0.0, n_estimators=10, n_jobs=1,\n",
       "            oob_score=False, random_state=None, verbose=0,\n",
       "            warm_start=False),\n",
       "       fit_params={}, iid=True, n_jobs=1,\n",
       "       param_grid={'max_depth': [1, 2, 3, 4, 5, 6, 7, 8, 9, 10, 11, 12, 13, 14]},\n",
       "       pre_dispatch='2*n_jobs', refit=True, scoring='roc_auc', verbose=0)"
      ]
     },
     "execution_count": 44,
     "metadata": {},
     "output_type": "execute_result"
    }
   ],
   "source": [
    "# Fitting the grid search\n",
    "grid.fit(X_trainfinaltemp, y_train)"
   ]
  },
  {
   "cell_type": "code",
   "execution_count": 45,
   "metadata": {},
   "outputs": [
    {
     "name": "stdout",
     "output_type": "stream",
     "text": [
      "0.798953527437\n",
      "{'max_depth': 14}\n",
      "RandomForestClassifier(bootstrap=True, class_weight='balanced',\n",
      "            criterion='gini', max_depth=14, max_features='auto',\n",
      "            max_leaf_nodes=None, min_impurity_split=1e-07,\n",
      "            min_samples_leaf=1, min_samples_split=2,\n",
      "            min_weight_fraction_leaf=0.0, n_estimators=10, n_jobs=1,\n",
      "            oob_score=False, random_state=None, verbose=0,\n",
      "            warm_start=False)\n"
     ]
    }
   ],
   "source": [
    "# Finding the best parameters to build my final random forest\n",
    "\n",
    "print grid.best_score_\n",
    "print grid.best_params_\n",
    "print grid.best_estimator_"
   ]
  },
  {
   "cell_type": "code",
   "execution_count": 42,
   "metadata": {
    "scrolled": true
   },
   "outputs": [
    {
     "data": {
      "text/plain": [
       "RandomForestClassifier(bootstrap=True, class_weight=None, criterion='gini',\n",
       "            max_depth=14, max_features='auto', max_leaf_nodes=None,\n",
       "            min_impurity_split=1e-07, min_samples_leaf=1,\n",
       "            min_samples_split=2, min_weight_fraction_leaf=0.0,\n",
       "            n_estimators=10, n_jobs=1, oob_score=False, random_state=None,\n",
       "            verbose=0, warm_start=False)"
      ]
     },
     "execution_count": 42,
     "metadata": {},
     "output_type": "execute_result"
    }
   ],
   "source": [
    "# We noticed the model search turned out as our best max_depth to be 14.\n",
    "\n",
    "rfbestgini = RandomForestClassifier(max_depth=14, n_estimators=10, criterion = 'gini')\n",
    "rfbestgini.fit(X_trainfinaltemp, y_train)"
   ]
  },
  {
   "cell_type": "code",
   "execution_count": 22,
   "metadata": {},
   "outputs": [
    {
     "name": "stdout",
     "output_type": "stream",
     "text": [
      "             precision    recall  f1-score   support\n",
      "\n",
      "          0       0.75      0.77      0.76       635\n",
      "          1       0.78      0.76      0.77       670\n",
      "\n",
      "avg / total       0.77      0.77      0.77      1305\n",
      "\n",
      "[[491 162]\n",
      " [144 508]]\n",
      "cross val score accuracy :0.762068965517\n",
      "roc_auc score :0.842798256044\n",
      "recall score :0.775172413793\n"
     ]
    }
   ],
   "source": [
    "# Generating model predictions and scoring\n",
    "\n",
    "pred = rfbestgini.predict(X_testfinaltemp)\n",
    "\n",
    "print classification_report(pred, y_test)\n",
    "print confusion_matrix(y_test, pred)\n",
    "print \"cross val score accuracy :\"+str(sum(cross_val_score(rfbestgini, tempXxgb, tempy))/3)\n",
    "print 'roc_auc score :'+str(sum(cross_val_score(rfbestgini, tempXxgb, tempy, scoring='roc_auc'))/3)\n",
    "print 'recall score :'+str(sum(cross_val_score(rfbestgini, tempXxgb, tempy, scoring='recall'))/3)"
   ]
  },
  {
   "cell_type": "markdown",
   "metadata": {
    "collapsed": true
   },
   "source": [
    "### Feeding original data to our models"
   ]
  },
  {
   "cell_type": "markdown",
   "metadata": {},
   "source": [
    "Considering the upsampled nature of the data I built the models on, it is time to reintroduced the original data and run it through the model. Checking the performance here is perhaps the most important take away."
   ]
  },
  {
   "cell_type": "code",
   "execution_count": 2,
   "metadata": {
    "collapsed": true
   },
   "outputs": [],
   "source": [
    "xgboost = pickle.load(open('xgboostmodel.sav', 'rb'))\n",
    "pipeline2 = pickle.load(open('logregmodel.sav', 'rb'))"
   ]
  },
  {
   "cell_type": "code",
   "execution_count": 3,
   "metadata": {
    "collapsed": true
   },
   "outputs": [],
   "source": [
    "# Reintroducing the original data and \n",
    "ogdata=pd.read_csv('datafinal.csv')\n",
    "ogxprep = ogdata.copy()\n",
    "ogxprep.drop(['irlco', 'Unnamed: 0', 'Unnamed: 0.1'], axis=1, inplace=True)\n",
    "ogxprep.columns.values[2] = '1hr'"
   ]
  },
  {
   "cell_type": "code",
   "execution_count": 8,
   "metadata": {
    "collapsed": true
   },
   "outputs": [],
   "source": [
    "# The reintroduced data is raw, so transforming the data with the instatiated\n",
    "# Count Vecotirzer will be needed.\n",
    "\n",
    "tokenizer = RegexpTokenizer(r'\\w+')\n",
    "\n",
    "bill_tokens= [tokenizer.tokenize(i) for i in ogxprep.billtext]\n",
    "\n",
    "new_list = [\" \".join([lemmatizer.lemmatize(word) for word in x]) for x in bill_tokens]"
   ]
  },
  {
   "cell_type": "code",
   "execution_count": 9,
   "metadata": {
    "collapsed": true
   },
   "outputs": [],
   "source": [
    "cols = ['hconres', 'hjres', '1hr', 'hres', 's', 'sconres', 'billtext', 'lemms']\n",
    "cols2 = ['hconres', 'hjres', '1hr', 'hres', 's', 'sconres', 'billtext']"
   ]
  },
  {
   "cell_type": "code",
   "execution_count": 10,
   "metadata": {
    "collapsed": true
   },
   "outputs": [],
   "source": [
    "lemms = pd.DataFrame(new_list)\n",
    "\n",
    "l1=ogxprep.values.tolist()\n",
    "l2=lemms.values.tolist()\n",
    "for i in range(len(l1)):\n",
    "    l1[i].extend(l2[i])\n",
    "\n",
    "ogxprep =pd.DataFrame(l1,columns=ogxprep.columns.tolist()+lemms.columns.tolist())\n",
    "\n",
    "\n",
    "ogxprep.columns = cols\n",
    "ogxprep.drop('billtext', axis=1, inplace=True)\n",
    "ogxprep.columns = cols2"
   ]
  },
  {
   "cell_type": "code",
   "execution_count": 11,
   "metadata": {
    "collapsed": true
   },
   "outputs": [],
   "source": [
    "ogy = ogdata.irlco.astype(int)\n",
    "ogX= ogxprep"
   ]
  },
  {
   "cell_type": "code",
   "execution_count": 35,
   "metadata": {
    "collapsed": true
   },
   "outputs": [],
   "source": [
    "## Vectorizing transformation of original using upsampled model\n",
    "ogvectorizers = cvec.transform(ogX.billtext)\n",
    "ogdf_vec = pd.DataFrame(ogvectorizers.todense(), columns = cvec.get_feature_names())\n",
    "l1=ogX.values.tolist()\n",
    "l2=ogdf_vec.values.tolist()\n",
    "for i in range(len(l1)):\n",
    "    l1[i].extend(l2[i])\n",
    "\n",
    "cvecogXfinal=pd.DataFrame(l1,columns=ogX.columns.tolist()+ogdf_vec.columns.tolist())\n",
    "\n",
    "cvecogXfinal.drop('billtext', axis=1, inplace=True)"
   ]
  },
  {
   "cell_type": "code",
   "execution_count": 36,
   "metadata": {
    "collapsed": true
   },
   "outputs": [],
   "source": [
    "# Creating an X for final analysis\n",
    "\n",
    "cvecogXfinaltemp= cvecogXfinal.copy()\n",
    "cvecogXfinaltemp = cvecogXfinaltemp.rename(columns={'fit': 'fit_feat'})"
   ]
  },
  {
   "cell_type": "code",
   "execution_count": 37,
   "metadata": {
    "collapsed": true
   },
   "outputs": [],
   "source": [
    "# Transforming for TFIDF vectorized text\n",
    "\n",
    "ogtfvector = tfidf.transform(ogX.billtext)\n",
    "\n",
    "ogdf_tfvec = pd.DataFrame(ogtfvector.todense())\n",
    "l1=ogX.values.tolist()\n",
    "l2=ogdf_tfvec.values.tolist()\n",
    "for i in range(len(l1)):\n",
    "    l1[i].extend(l2[i])\n",
    "\n",
    "ogXfinaltf =pd.DataFrame(l1,columns=ogX.columns.tolist()+ogdf_tfvec.columns.tolist())\n",
    "ogXfinaltf.drop('billtext', axis=1, inplace=True)"
   ]
  },
  {
   "cell_type": "code",
   "execution_count": 38,
   "metadata": {
    "collapsed": true
   },
   "outputs": [],
   "source": [
    "ogXfinaltemptf= ogXfinaltf.copy()\n",
    "ogXfinaltemptf = ogXfinaltemptf.rename(columns={'fit': 'fit_feat'})"
   ]
  },
  {
   "cell_type": "code",
   "execution_count": 32,
   "metadata": {},
   "outputs": [
    {
     "name": "stdout",
     "output_type": "stream",
     "text": [
      "             precision    recall  f1-score   support\n",
      "\n",
      "          0       0.32      0.90      0.47       776\n",
      "          1       0.76      0.14      0.23      1711\n",
      "\n",
      "avg / total       0.62      0.38      0.31      2487\n",
      "\n",
      "[[ 700 1475]\n",
      " [  76  236]]\n",
      "cross val score accuracy :0.859670285485\n",
      "roc_auc score :0.620243147657\n"
     ]
    }
   ],
   "source": [
    "## Logistic Regression w/o TFIDF- Original Data\n",
    "pred = pipeline2.predict(cvecogXfinaltemp)\n",
    "print classification_report(pred, ogy)\n",
    "print confusion_matrix(ogy, pred)\n",
    "print \"cross val score accuracy :\"+str(sum(cross_val_score(pipeline2, cvecogXfinaltemp, ogy))/3)\n",
    "print 'roc_auc score :'+str(sum(cross_val_score(pipeline2, cvecogXfinaltemp, ogy, scoring='roc_auc'))/3)\n",
    "\n"
   ]
  },
  {
   "cell_type": "code",
   "execution_count": 37,
   "metadata": {
    "scrolled": true
   },
   "outputs": [
    {
     "name": "stdout",
     "output_type": "stream",
     "text": [
      "             precision    recall  f1-score   support\n",
      "\n",
      "          0       0.82      0.99      0.90      1810\n",
      "          1       0.93      0.43      0.59       677\n",
      "\n",
      "avg / total       0.85      0.84      0.81      2487\n",
      "\n",
      "[[1789  386]\n",
      " [  21  291]]\n",
      "cross val score accuracy :0.819461198231\n",
      "roc_auc score :0.686900972591\n"
     ]
    }
   ],
   "source": [
    "## Logistic Regression w/ TFIDF- Original Data\n",
    "pred = pipeline.predict(ogXfinaltemptf)\n",
    "print classification_report(pred, ogy)\n",
    "print confusion_matrix(ogy, pred)\n",
    "print \"cross val score accuracy :\"+str(sum(cross_val_score(pipeline, ogXfinaltemptf, ogy))/3)\n",
    "print 'roc_auc score :'+str(sum(cross_val_score(pipeline, ogXfinaltemptf, ogy, scoring='roc_auc'))/3)\n",
    "\n",
    "\n"
   ]
  },
  {
   "cell_type": "code",
   "execution_count": 39,
   "metadata": {},
   "outputs": [
    {
     "name": "stderr",
     "output_type": "stream",
     "text": [
      "IOPub data rate exceeded.\n",
      "The notebook server will temporarily stop sending output\n",
      "to the client in order to avoid crashing it.\n",
      "To change this limit, set the config variable\n",
      "`--NotebookApp.iopub_data_rate_limit`.\n"
     ]
    }
   ],
   "source": [
    "## XGBoost - Original Data\n",
    "pred = xgboost.predict(cvecogXfinaltemp)\n",
    "print classification_report(pred, ogy)\n",
    "print confusion_matrix(ogy, pred)\n",
    "print \"cross val score accuracy :\"+str(sum(cross_val_score(xgboost, cvecogXfinaltemp, ogy))/3)\n",
    "print 'roc_auc score :'+str(sum(cross_val_score(xgboost, cvecogXfinaltemp, ogy, scoring='roc_auc'))/3)\n",
    "\n"
   ]
  },
  {
   "cell_type": "code",
   "execution_count": 30,
   "metadata": {},
   "outputs": [
    {
     "name": "stdout",
     "output_type": "stream",
     "text": [
      "             precision    recall  f1-score   support\n",
      "\n",
      "          0       0.80      0.96      0.87      1816\n",
      "          1       0.77      0.36      0.49       671\n",
      "\n",
      "avg / total       0.79      0.80      0.77      2487\n",
      "\n",
      "[[1744  431]\n",
      " [  72  240]]\n",
      "cross val score accuracy :0.873743466023\n",
      "roc_auc score :0.580260831123\n"
     ]
    }
   ],
   "source": [
    "## Random Forest - Original Data\n",
    "pred = rfbestgini.predict(cvecogXfinaltemp)\n",
    "print classification_report(pred, ogy)\n",
    "print confusion_matrix(ogy, pred)\n",
    "print \"cross val score accuracy :\"+str(sum(cross_val_score(rfbestgini, cvecogXfinaltemp, ogy))/3)\n",
    "print 'roc_auc score :'+str(sum(cross_val_score(rfbestgini, cvecogXfinaltemp, ogy, scoring='roc_auc'))/3)\n",
    "\n",
    "\n"
   ]
  },
  {
   "cell_type": "markdown",
   "metadata": {},
   "source": [
    "### Plotting the ROC-AUC for my best model"
   ]
  },
  {
   "cell_type": "code",
   "execution_count": 47,
   "metadata": {
    "collapsed": true
   },
   "outputs": [],
   "source": [
    "from sklearn.metrics import roc_curve, auc\n",
    "probs = pipeline.predict_proba(ogXfinaltemptf)\n",
    "preds = probs[:,1]\n",
    "fpr, tpr, threshold = roc_curve(ogy, preds)\n",
    "roc_auc = auc(fpr, tpr)"
   ]
  },
  {
   "cell_type": "code",
   "execution_count": 48,
   "metadata": {},
   "outputs": [
    {
     "data": {
      "image/png": "[encoded data removed]",
      "text/plain": [
       "<matplotlib.figure.Figure at 0x11e32c3d0>"
      ]
     },
     "metadata": {},
     "output_type": "display_data"
    }
   ],
   "source": [
    "plt.title('Receiver Operating Characteristic')\n",
    "plt.plot(fpr, tpr, 'b', label = 'AUC = %0.2f' % roc_auc)\n",
    "plt.legend(loc = 'lower right')\n",
    "plt.plot([0, 1], [0, 1],'r--')\n",
    "plt.xlim([0, 1])\n",
    "plt.ylim([0, 1])\n",
    "plt.ylabel('True Positive Rate')\n",
    "plt.xlabel('False Positive Rate')\n",
    "plt.show()"
   ]
  },
  {
   "cell_type": "code",
   "execution_count": 43,
   "metadata": {},
   "outputs": [
    {
     "data": {
      "text/html": [
       "<div>\n",
       "<style>\n",
       "    .dataframe thead tr:only-child th {\n",
       "        text-align: right;\n",
       "    }\n",
       "\n",
       "    .dataframe thead th {\n",
       "        text-align: left;\n",
       "    }\n",
       "\n",
       "    .dataframe tbody tr th {\n",
       "        vertical-align: top;\n",
       "    }\n",
       "</style>\n",
       "<table border=\"1\" class=\"dataframe\">\n",
       "  <thead>\n",
       "    <tr style=\"text-align: right;\">\n",
       "      <th></th>\n",
       "      <th>Feature</th>\n",
       "      <th>Importance</th>\n",
       "    </tr>\n",
       "  </thead>\n",
       "  <tbody>\n",
       "    <tr>\n",
       "      <th>55312</th>\n",
       "      <td>may used</td>\n",
       "      <td>0.010387</td>\n",
       "    </tr>\n",
       "    <tr>\n",
       "      <th>6579</th>\n",
       "      <td>appropriated</td>\n",
       "      <td>0.009593</td>\n",
       "    </tr>\n",
       "    <tr>\n",
       "      <th>11742</th>\n",
       "      <td>budget</td>\n",
       "      <td>0.008227</td>\n",
       "    </tr>\n",
       "    <tr>\n",
       "      <th>63617</th>\n",
       "      <td>passed away</td>\n",
       "      <td>0.007729</td>\n",
       "    </tr>\n",
       "    <tr>\n",
       "      <th>14296</th>\n",
       "      <td>cited</td>\n",
       "      <td>0.007429</td>\n",
       "    </tr>\n",
       "    <tr>\n",
       "      <th>21206</th>\n",
       "      <td>covered</td>\n",
       "      <td>0.007324</td>\n",
       "    </tr>\n",
       "    <tr>\n",
       "      <th>92121</th>\n",
       "      <td>title</td>\n",
       "      <td>0.007247</td>\n",
       "    </tr>\n",
       "    <tr>\n",
       "      <th>73215</th>\n",
       "      <td>recorded</td>\n",
       "      <td>0.007196</td>\n",
       "    </tr>\n",
       "    <tr>\n",
       "      <th>15900</th>\n",
       "      <td>commitment achieving</td>\n",
       "      <td>0.007177</td>\n",
       "    </tr>\n",
       "    <tr>\n",
       "      <th>34167</th>\n",
       "      <td>expenditure</td>\n",
       "      <td>0.006648</td>\n",
       "    </tr>\n",
       "    <tr>\n",
       "      <th>85049</th>\n",
       "      <td>state continues</td>\n",
       "      <td>0.006101</td>\n",
       "    </tr>\n",
       "    <tr>\n",
       "      <th>80667</th>\n",
       "      <td>sec</td>\n",
       "      <td>0.005905</td>\n",
       "    </tr>\n",
       "    <tr>\n",
       "      <th>74875</th>\n",
       "      <td>relevant</td>\n",
       "      <td>0.005613</td>\n",
       "    </tr>\n",
       "    <tr>\n",
       "      <th>24253</th>\n",
       "      <td>department</td>\n",
       "      <td>0.005370</td>\n",
       "    </tr>\n",
       "    <tr>\n",
       "      <th>51141</th>\n",
       "      <td>later five</td>\n",
       "      <td>0.005346</td>\n",
       "    </tr>\n",
       "  </tbody>\n",
       "</table>\n",
       "</div>"
      ],
      "text/plain": [
       "                    Feature  Importance\n",
       "55312              may used    0.010387\n",
       "6579           appropriated    0.009593\n",
       "11742                budget    0.008227\n",
       "63617           passed away    0.007729\n",
       "14296                 cited    0.007429\n",
       "21206               covered    0.007324\n",
       "92121                 title    0.007247\n",
       "73215              recorded    0.007196\n",
       "15900  commitment achieving    0.007177\n",
       "34167           expenditure    0.006648\n",
       "85049       state continues    0.006101\n",
       "80667                   sec    0.005905\n",
       "74875              relevant    0.005613\n",
       "24253            department    0.005370\n",
       "51141            later five    0.005346"
      ]
     },
     "execution_count": 43,
     "metadata": {},
     "output_type": "execute_result"
    }
   ],
   "source": [
    "# Finally, we use our fitted Random Forest model to extract some feature importances\n",
    "rffeat = pd.DataFrame(rfbestgini.feature_importances_)\n",
    "rffeatindex = X_trainfinaltemp.columns.tolist()\n",
    "rfindex = pd.DataFrame(rffeatindex)\n",
    "rffinal = pd.concat((rfindex, rffeat), axis=1)\n",
    "rffinal.columns= ['Feature', 'Importance']\n",
    "rffinal.sort_values(by='Importance', ascending=0).head(15)"
   ]
  },
  {
   "cell_type": "code",
   "execution_count": null,
   "metadata": {
    "collapsed": true
   },
   "outputs": [],
   "source": []
  }
 ],
 "metadata": {
  "kernelspec": {
   "display_name": "Python 2",
   "language": "python",
   "name": "python2"
  },
  "language_info": {
   "codemirror_mode": {
    "name": "ipython",
    "version": 2
   },
   "file_extension": ".py",
   "mimetype": "text/x-python",
   "name": "python",
   "nbconvert_exporter": "python",
   "pygments_lexer": "ipython2",
   "version": "2.7.13"
  }
 },
 "nbformat": 4,
 "nbformat_minor": 2
}
